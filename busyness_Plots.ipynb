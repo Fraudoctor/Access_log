{
 "cells": [
  {
   "cell_type": "code",
   "execution_count": 4,
   "metadata": {},
   "outputs": [
    {
     "name": "stderr",
     "output_type": "stream",
     "text": [
      "/Library/Frameworks/Python.framework/Versions/3.6/lib/python3.6/site-packages/google/auth/_default.py:69: UserWarning: Your application has authenticated using end user credentials from Google Cloud SDK. We recommend that most server applications use service accounts instead. If your application continues to use end user credentials from Cloud SDK, you might receive a \"quota exceeded\" or \"API not enabled\" error. For more information about service accounts, see https://cloud.google.com/docs/authentication/\n",
      "  warnings.warn(_CLOUD_SDK_CREDENTIALS_WARNING)\n"
     ]
    },
    {
     "name": "stdout",
     "output_type": "stream",
     "text": [
      "(264, 3)\n",
      "['JCcd691a' '131018562095' '39']\n"
     ]
    }
   ],
   "source": [
    "# %matplotlib inline\n",
    "#%matplotlib notebook\n",
    "import matplotlib.pyplot as plt\n",
    "import numpy as np\n",
    "import matplotlib\n",
    "#matplotlib.use('TkAgg')\n",
    "import matplotlib.pyplot as plt\n",
    "\n",
    "# Create t2tpa from Acces log data using a Sql quryyy\n",
    "\n",
    "from google.cloud import bigquery\n",
    "from google.cloud.bigquery import dbapi;\n",
    "client = bigquery.Client(\"som-nero-phi-jonc101\"); # Project identifier\n",
    "conn = dbapi.connect(client);\n",
    "cursor = conn.cursor();\n",
    "query = \"select jc_uid, pat_enc_csn_id_coded, t2tpa from `noshad.cohort_v2`\"; # Example dataset table\n",
    "cursor.execute(query);\n",
    "results = cursor.fetchall();\n",
    "\n",
    "A = np.array(results)\n",
    "print(A.shape)\n",
    "print(A[0,:])\n",
    "Enc_ID = A[:,1]  "
   ]
  },
  {
   "cell_type": "markdown",
   "metadata": {},
   "source": [
    "### Create the patient dictionary and extract TPA times for each encounter and put it in a dictionary"
   ]
  },
  {
   "cell_type": "code",
   "execution_count": 5,
   "metadata": {},
   "outputs": [],
   "source": [
    "\n",
    "\n",
    "\n",
    "Pat_dic = {}\n",
    "\n",
    "for id in Enc_ID:\n",
    "    #print(id)\n",
    "    #print(np.where(A[:,1]==id)[0])\n",
    "    #print(A[np.where(A[:,1]==id)[0],2])\n",
    "    t2tpa = int(A[np.where(A[:,1]==id)[0],2])\n",
    "    pat_id = A[np.where(A[:,1]==id)[0],0]\n",
    "    \n",
    "    #print(t2tpa)\n",
    "    if t2tpa < 60*10:\n",
    "        Pat_dic[id] = {} #each patient has a dictionary\n",
    "        Pat_dic[id]['t2tpa'] = t2tpa\n",
    "        Pat_dic[id]['pat_id'] = pat_id"
   ]
  },
  {
   "cell_type": "markdown",
   "metadata": {},
   "source": [
    "## Feature: import num of all actions and add it to the patient dictionary"
   ]
  },
  {
   "cell_type": "code",
   "execution_count": 6,
   "metadata": {},
   "outputs": [
    {
     "name": "stderr",
     "output_type": "stream",
     "text": [
      "/Library/Frameworks/Python.framework/Versions/3.6/lib/python3.6/site-packages/google/auth/_default.py:69: UserWarning: Your application has authenticated using end user credentials from Google Cloud SDK. We recommend that most server applications use service accounts instead. If your application continues to use end user credentials from Cloud SDK, you might receive a \"quota exceeded\" or \"API not enabled\" error. For more information about service accounts, see https://cloud.google.com/docs/authentication/\n",
      "  warnings.warn(_CLOUD_SDK_CREDENTIALS_WARNING)\n"
     ]
    },
    {
     "name": "stdout",
     "output_type": "stream",
     "text": [
      "(261, 3)\n",
      "['JCcb69cc' '131029086038' '11656']\n",
      "131014276335\n",
      "131014194983\n",
      "131009784135\n"
     ]
    }
   ],
   "source": [
    "\n",
    "\n",
    "client = bigquery.Client(\"som-nero-phi-jonc101\"); # Project identifier\n",
    "conn = dbapi.connect(client);\n",
    "cursor = conn.cursor();\n",
    "query = \"select jc_uid, pat_enc_csn_id_coded, dep_busy_all_actions from `noshad.Feature_dep_busy_all_actions`\"; # Example dataset table\n",
    "cursor.execute(query);\n",
    "results = cursor.fetchall();\n",
    "\n",
    "A = np.array(results)\n",
    "print(A.shape)\n",
    "print(A[0,:])\n",
    "\n",
    "\n",
    "#with open('features/num_tnx.csv', 'r') as f:\n",
    "#    A_temp = csv.reader(f)\n",
    "#    temp = list(A_temp)\n",
    "\n",
    "#print(temp[0]) # The column names\n",
    "\n",
    "#A = np.array(temp[1:]) # array of t2tpa\n",
    "\n",
    "\n",
    "for id in Pat_dic.keys():\n",
    "    if A[np.where(A[:,1]==id)[0],2].shape[0] > 0:\n",
    "        num_actions = float(A[np.where(A[:,1]==id)[0],2])\n",
    "        Pat_dic[id]['dep_busy_all_actions'] = num_actions\n",
    "    else:\n",
    "        print(id)\n",
    "        Pat_dic[id]['dep_busy_all_actions'] = 0\n"
   ]
  },
  {
   "cell_type": "markdown",
   "metadata": {},
   "source": [
    "## plot the feature in terms of t2tpa"
   ]
  },
  {
   "cell_type": "code",
   "execution_count": 35,
   "metadata": {},
   "outputs": [
    {
     "name": "stdout",
     "output_type": "stream",
     "text": [
      "(264,)\n",
      "(264, 1)\n",
      "(264, 1)\n"
     ]
    },
    {
     "data": {
      "image/png": "[encoded data removed]",
      "text/plain": [
       "<Figure size 432x288 with 1 Axes>"
      ]
     },
     "metadata": {
      "needs_background": "light"
     },
     "output_type": "display_data"
    },
    {
     "name": "stdout",
     "output_type": "stream",
     "text": [
      "(0.1086545034988068, 0.07802363052810098)\n"
     ]
    }
   ],
   "source": [
    "\n",
    "from sklearn.linear_model import LinearRegression as LR\n",
    "\n",
    "from sklearn.metrics import roc_curve\n",
    "from matplotlib import rcParams\n",
    "rcParams['font.family'] = 'serif'\n",
    "rcParams.update({'font.size': 12})\n",
    "plt.rcParams['axes.labelweight'] = 'bold'\n",
    "import time\n",
    "\n",
    "\n",
    "\n",
    "\n",
    "\n",
    "Num_actions = np.array([Pat_dic[id]['dep_busy_all_actions'] for id in Pat_dic.keys()])/1000\n",
    "Time2tpa = np.array([Pat_dic[id]['t2tpa'] for id in Pat_dic.keys()])\n",
    "\n",
    "D = np.where(Num_actions>-1)[0]\n",
    "print(D.shape)\n",
    "\n",
    "plt.scatter(Num_actions,Time2tpa,color='r')\n",
    "\n",
    "# Linear regression plot\n",
    "Num_actions = np.reshape(Num_actions,(-1,1))\n",
    "Time2tpa = np.reshape(Time2tpa,(-1,1))\n",
    "\n",
    "print(Num_actions.shape)\n",
    "print(Time2tpa.shape)\n",
    "\n",
    "Time2tpa_regr = LR().fit(Num_actions, Time2tpa).predict(Num_actions)\n",
    "plt.plot(Num_actions,Time2tpa_regr, color='blue', linewidth=3)\n",
    "\n",
    "plt.xlabel(r'Department Busyness: Number of all Actions ($\\times 1000$)')\n",
    "plt.ylabel('Time-to-TPA (min)')\n",
    "\n",
    "timestr = time.strftime(\"%m_%d_%Y_%H%M%S\")\n",
    "plt.tight_layout()\n",
    "plt.savefig('figures/'+timestr +'_dep_busy_all_actions' +'.png', dpi=300)\n",
    "\n",
    "\n",
    "\n",
    "\n",
    "plt.show()\n",
    "\n",
    "\n",
    "from scipy.stats.stats import pearsonr \n",
    "\n",
    "\n",
    "print(pearsonr(np.reshape(Num_actions,(-1,)), np.reshape((Time2tpa),(-1,))))"
   ]
  },
  {
   "cell_type": "markdown",
   "metadata": {},
   "source": [
    "## Feature: import num of clinical actions and add it to the patient dictionary"
   ]
  },
  {
   "cell_type": "code",
   "execution_count": 10,
   "metadata": {},
   "outputs": [
    {
     "name": "stderr",
     "output_type": "stream",
     "text": [
      "/Library/Frameworks/Python.framework/Versions/3.6/lib/python3.6/site-packages/google/auth/_default.py:69: UserWarning: Your application has authenticated using end user credentials from Google Cloud SDK. We recommend that most server applications use service accounts instead. If your application continues to use end user credentials from Cloud SDK, you might receive a \"quota exceeded\" or \"API not enabled\" error. For more information about service accounts, see https://cloud.google.com/docs/authentication/\n",
      "  warnings.warn(_CLOUD_SDK_CREDENTIALS_WARNING)\n"
     ]
    },
    {
     "name": "stdout",
     "output_type": "stream",
     "text": [
      "(261, 3)\n",
      "['JCcb69cc' '131029086038' '8437']\n",
      "131014276335\n",
      "131014194983\n",
      "131009784135\n"
     ]
    }
   ],
   "source": [
    "\n",
    "\n",
    "client = bigquery.Client(\"som-nero-phi-jonc101\"); # Project identifier\n",
    "conn = dbapi.connect(client);\n",
    "cursor = conn.cursor();\n",
    "query = \"select jc_uid, pat_enc_csn_id_coded, dep_busy_all_actions from `noshad.Feature_dep_busy_clinical_actions`\"; # Example dataset table\n",
    "cursor.execute(query);\n",
    "results = cursor.fetchall();\n",
    "\n",
    "A = np.array(results)\n",
    "print(A.shape)\n",
    "print(A[0,:])\n",
    "\n",
    "\n",
    "#with open('features/num_tnx.csv', 'r') as f:\n",
    "#    A_temp = csv.reader(f)\n",
    "#    temp = list(A_temp)\n",
    "\n",
    "#print(temp[0]) # The column names\n",
    "\n",
    "#A = np.array(temp[1:]) # array of t2tpa\n",
    "\n",
    "\n",
    "for id in Pat_dic.keys():\n",
    "    if A[np.where(A[:,1]==id)[0],2].shape[0] > 0:\n",
    "        num_actions = float(A[np.where(A[:,1]==id)[0],2])\n",
    "        Pat_dic[id]['Feature_dep_busy_clinical_actions'] = num_actions\n",
    "    else:\n",
    "        print(id)\n",
    "        Pat_dic[id]['Feature_dep_busy_clinical_actions'] = 0\n",
    "\n"
   ]
  },
  {
   "cell_type": "markdown",
   "metadata": {},
   "source": [
    "## Plot the feature"
   ]
  },
  {
   "cell_type": "code",
   "execution_count": 36,
   "metadata": {},
   "outputs": [
    {
     "name": "stdout",
     "output_type": "stream",
     "text": [
      "(264,)\n",
      "(264, 1)\n",
      "(264, 1)\n"
     ]
    },
    {
     "data": {
      "image/png": "[encoded data removed]",
      "text/plain": [
       "<Figure size 432x288 with 1 Axes>"
      ]
     },
     "metadata": {
      "needs_background": "light"
     },
     "output_type": "display_data"
    },
    {
     "name": "stdout",
     "output_type": "stream",
     "text": [
      "(-0.18336854708615655, 0.0027838709343982445)\n"
     ]
    }
   ],
   "source": [
    "\n",
    "from sklearn.linear_model import LinearRegression as LR\n",
    "\n",
    "from sklearn.metrics import roc_curve\n",
    "from matplotlib import rcParams\n",
    "rcParams['font.family'] = 'serif'\n",
    "rcParams.update({'font.size': 12})\n",
    "plt.rcParams['axes.labelweight'] = 'bold'\n",
    "import time\n",
    "\n",
    "\n",
    "\n",
    "\n",
    "\n",
    "Num_actions = np.array([Pat_dic[id]['Feature_dep_busy_clinical_actions'] for id in Pat_dic.keys()])/1000\n",
    "Time2tpa = np.array([Pat_dic[id]['t2tpa'] for id in Pat_dic.keys()])\n",
    "\n",
    "D = np.where(Num_actions>-1)[0]\n",
    "print(D.shape)\n",
    "\n",
    "plt.scatter(Num_actions,Time2tpa,color='r')\n",
    "\n",
    "# Linear regression plot\n",
    "Num_actions = np.reshape(Num_actions,(-1,1))\n",
    "Time2tpa = np.reshape(Time2tpa,(-1,1))\n",
    "\n",
    "print(Num_actions.shape)\n",
    "print(Time2tpa.shape)\n",
    "\n",
    "Time2tpa_regr = LR().fit(Num_actions, Time2tpa).predict(Num_actions)\n",
    "plt.plot(Num_actions,Time2tpa_regr, color='blue', linewidth=3)\n",
    "\n",
    "plt.xlabel(r'Department Busyness: Number of Clinical Actions ($\\times 1000$)')\n",
    "plt.ylabel('Time-to-TPA (min)')\n",
    "\n",
    "timestr = time.strftime(\"%m_%d_%Y_%H%M%S\")\n",
    "plt.tight_layout()\n",
    "plt.savefig('figures/'+timestr +'_dep_busy_clinical_actions' +'.png', dpi=300)\n",
    "\n",
    "\n",
    "\n",
    "\n",
    "plt.show()\n",
    "\n",
    "\n",
    "print(pearsonr(np.reshape(Num_actions,(-1,)), np.reshape((Time2tpa),(-1,))))\n",
    "\n"
   ]
  },
  {
   "cell_type": "markdown",
   "metadata": {},
   "source": [
    "## Feature: import num of imaging actions and add it to the patient dictionary"
   ]
  },
  {
   "cell_type": "code",
   "execution_count": 16,
   "metadata": {},
   "outputs": [
    {
     "name": "stderr",
     "output_type": "stream",
     "text": [
      "/Library/Frameworks/Python.framework/Versions/3.6/lib/python3.6/site-packages/google/auth/_default.py:69: UserWarning: Your application has authenticated using end user credentials from Google Cloud SDK. We recommend that most server applications use service accounts instead. If your application continues to use end user credentials from Cloud SDK, you might receive a \"quota exceeded\" or \"API not enabled\" error. For more information about service accounts, see https://cloud.google.com/docs/authentication/\n",
      "  warnings.warn(_CLOUD_SDK_CREDENTIALS_WARNING)\n"
     ]
    },
    {
     "name": "stdout",
     "output_type": "stream",
     "text": [
      "(260, 3)\n",
      "['JCccb0ff' '131014194709' '5']\n",
      "131192149355\n",
      "131014276335\n",
      "131014194983\n",
      "131009784135\n"
     ]
    }
   ],
   "source": [
    "\n",
    "\n",
    "client = bigquery.Client(\"som-nero-phi-jonc101\"); # Project identifier\n",
    "conn = dbapi.connect(client);\n",
    "cursor = conn.cursor();\n",
    "query = \"select jc_uid, pat_enc_csn_id_coded, dep_busy_all_actions from `noshad.Feature_dep_busy_imaging_actions`\"; # Example dataset table\n",
    "cursor.execute(query);\n",
    "results = cursor.fetchall();\n",
    "\n",
    "A = np.array(results)\n",
    "print(A.shape)\n",
    "print(A[0,:])\n",
    "\n",
    "\n",
    "#with open('features/num_tnx.csv', 'r') as f:\n",
    "#    A_temp = csv.reader(f)\n",
    "#    temp = list(A_temp)\n",
    "\n",
    "#print(temp[0]) # The column names\n",
    "\n",
    "#A = np.array(temp[1:]) # array of t2tpa\n",
    "\n",
    "\n",
    "for id in Pat_dic.keys():\n",
    "    if A[np.where(A[:,1]==id)[0],2].shape[0] > 0:\n",
    "        num_actions = float(A[np.where(A[:,1]==id)[0],2])\n",
    "        Pat_dic[id]['Feature_dep_busy_imaging_actions'] = num_actions\n",
    "    else:\n",
    "        print(id)\n",
    "        Pat_dic[id]['Feature_dep_busy_imaging_actions'] = 0\n",
    "\n",
    "\n"
   ]
  },
  {
   "cell_type": "markdown",
   "metadata": {},
   "source": [
    "## Plot the Feature"
   ]
  },
  {
   "cell_type": "code",
   "execution_count": 37,
   "metadata": {},
   "outputs": [
    {
     "name": "stdout",
     "output_type": "stream",
     "text": [
      "(264,)\n",
      "(264, 1)\n",
      "(264, 1)\n"
     ]
    },
    {
     "data": {
      "image/png": "[encoded data removed]",
      "text/plain": [
       "<Figure size 432x288 with 1 Axes>"
      ]
     },
     "metadata": {
      "needs_background": "light"
     },
     "output_type": "display_data"
    },
    {
     "name": "stdout",
     "output_type": "stream",
     "text": [
      "(-0.08787597642730341, 0.15450549310927775)\n"
     ]
    }
   ],
   "source": [
    "\n",
    "from sklearn.linear_model import LinearRegression as LR\n",
    "\n",
    "from sklearn.metrics import roc_curve\n",
    "from matplotlib import rcParams\n",
    "rcParams['font.family'] = 'serif'\n",
    "rcParams.update({'font.size': 12})\n",
    "plt.rcParams['axes.labelweight'] = 'bold'\n",
    "import time\n",
    "\n",
    "\n",
    "\n",
    "\n",
    "\n",
    "Num_actions = np.array([Pat_dic[id]['Feature_dep_busy_imaging_actions'] for id in Pat_dic.keys()])\n",
    "Time2tpa = np.array([Pat_dic[id]['t2tpa'] for id in Pat_dic.keys()])\n",
    "\n",
    "D = np.where(Num_actions>-1)[0]\n",
    "print(D.shape)\n",
    "\n",
    "plt.scatter(Num_actions,Time2tpa,color='r')\n",
    "\n",
    "# Linear regression plot\n",
    "Num_actions = np.reshape(Num_actions,(-1,1))\n",
    "Time2tpa = np.reshape(Time2tpa,(-1,1))\n",
    "\n",
    "print(Num_actions.shape)\n",
    "print(Time2tpa.shape)\n",
    "\n",
    "Time2tpa_regr = LR().fit(Num_actions, Time2tpa).predict(Num_actions)\n",
    "plt.plot(Num_actions,Time2tpa_regr, color='blue', linewidth=3)\n",
    "\n",
    "plt.xlabel(r'Department Busyness: Number of Imaging Actions')\n",
    "plt.ylabel('Time-to-TPA (min)')\n",
    "\n",
    "timestr = time.strftime(\"%m_%d_%Y_%H%M%S\")\n",
    "plt.tight_layout()\n",
    "plt.savefig('figures/'+timestr +'_dep_busy_imaging_actions' +'.png', dpi=300)\n",
    "\n",
    "\n",
    "\n",
    "\n",
    "plt.show()\n",
    "\n",
    "\n",
    "\n",
    "print(pearsonr(np.reshape(Num_actions,(-1,)), np.reshape((Time2tpa),(-1,))))\n",
    "\n"
   ]
  },
  {
   "cell_type": "markdown",
   "metadata": {},
   "source": [
    "## Feature: Number of all Active Patients"
   ]
  },
  {
   "cell_type": "code",
   "execution_count": 20,
   "metadata": {},
   "outputs": [
    {
     "name": "stderr",
     "output_type": "stream",
     "text": [
      "/Library/Frameworks/Python.framework/Versions/3.6/lib/python3.6/site-packages/google/auth/_default.py:69: UserWarning: Your application has authenticated using end user credentials from Google Cloud SDK. We recommend that most server applications use service accounts instead. If your application continues to use end user credentials from Cloud SDK, you might receive a \"quota exceeded\" or \"API not enabled\" error. For more information about service accounts, see https://cloud.google.com/docs/authentication/\n",
      "  warnings.warn(_CLOUD_SDK_CREDENTIALS_WARNING)\n"
     ]
    },
    {
     "name": "stdout",
     "output_type": "stream",
     "text": [
      "(261, 3)\n",
      "['JCe772ee' '131192149355' '7']\n",
      "131014276335\n",
      "131014194983\n",
      "131009784135\n"
     ]
    }
   ],
   "source": [
    "\n",
    "\n",
    "client = bigquery.Client(\"som-nero-phi-jonc101\"); # Project identifier\n",
    "conn = dbapi.connect(client);\n",
    "cursor = conn.cursor();\n",
    "query = \"select jc_uid, pat_enc_csn_id_coded, dep_busy_active_pat from `noshad.Feature_dep_busy_active_pat`\"; # Example dataset table\n",
    "cursor.execute(query);\n",
    "results = cursor.fetchall();\n",
    "\n",
    "A = np.array(results)\n",
    "print(A.shape)\n",
    "print(A[0,:])\n",
    "\n",
    "\n",
    "#with open('features/num_tnx.csv', 'r') as f:\n",
    "#    A_temp = csv.reader(f)\n",
    "#    temp = list(A_temp)\n",
    "\n",
    "#print(temp[0]) # The column names\n",
    "\n",
    "#A = np.array(temp[1:]) # array of t2tpa\n",
    "\n",
    "\n",
    "for id in Pat_dic.keys():\n",
    "    if A[np.where(A[:,1]==id)[0],2].shape[0] > 0:\n",
    "        num_actions = float(A[np.where(A[:,1]==id)[0],2])\n",
    "        Pat_dic[id]['Feature_dep_busy_active_pat'] = num_actions\n",
    "    else:\n",
    "        print(id)\n",
    "        Pat_dic[id]['Feature_dep_busy_active_pat'] = 0\n",
    "\n",
    "\n",
    "\n"
   ]
  },
  {
   "cell_type": "markdown",
   "metadata": {},
   "source": [
    "# Plot the Feature"
   ]
  },
  {
   "cell_type": "code",
   "execution_count": 38,
   "metadata": {},
   "outputs": [
    {
     "name": "stdout",
     "output_type": "stream",
     "text": [
      "(264,)\n",
      "(264, 1)\n",
      "(264, 1)\n"
     ]
    },
    {
     "data": {
      "image/png": "[encoded data removed]",
      "text/plain": [
       "<Figure size 432x288 with 1 Axes>"
      ]
     },
     "metadata": {
      "needs_background": "light"
     },
     "output_type": "display_data"
    },
    {
     "name": "stdout",
     "output_type": "stream",
     "text": [
      "(-0.20668764195753828, 0.0007277666317775771)\n"
     ]
    }
   ],
   "source": [
    "\n",
    "from sklearn.linear_model import LinearRegression as LR\n",
    "\n",
    "from sklearn.metrics import roc_curve\n",
    "from matplotlib import rcParams\n",
    "rcParams['font.family'] = 'serif'\n",
    "rcParams.update({'font.size': 12})\n",
    "plt.rcParams['axes.labelweight'] = 'bold'\n",
    "import time\n",
    "\n",
    "\n",
    "\n",
    "\n",
    "\n",
    "Num_actions = np.array([Pat_dic[id]['Feature_dep_busy_active_pat'] for id in Pat_dic.keys()])\n",
    "Time2tpa = np.array([Pat_dic[id]['t2tpa'] for id in Pat_dic.keys()])\n",
    "\n",
    "D = np.where(Num_actions>-1)[0]\n",
    "print(D.shape)\n",
    "\n",
    "plt.scatter(Num_actions,Time2tpa,color='r')\n",
    "\n",
    "# Linear regression plot\n",
    "Num_actions = np.reshape(Num_actions,(-1,1))\n",
    "Time2tpa = np.reshape(Time2tpa,(-1,1))\n",
    "\n",
    "print(Num_actions.shape)\n",
    "print(Time2tpa.shape)\n",
    "\n",
    "Time2tpa_regr = LR().fit(Num_actions, Time2tpa).predict(Num_actions)\n",
    "plt.plot(Num_actions,Time2tpa_regr, color='blue', linewidth=3)\n",
    "\n",
    "plt.xlabel(r'Department Busyness: Number of Active Patients')\n",
    "plt.ylabel('Time-to-TPA (min)')\n",
    "\n",
    "timestr = time.strftime(\"%m_%d_%Y_%H%M%S\")\n",
    "plt.tight_layout()\n",
    "plt.savefig('figures/'+timestr +'_dep_busy_active_pat' +'.png', dpi=300)\n",
    "\n",
    "\n",
    "\n",
    "\n",
    "plt.show()\n",
    "\n",
    "\n",
    "\n",
    "print(pearsonr(np.reshape(Num_actions,(-1,)), np.reshape((Time2tpa),(-1,))))\n",
    "\n",
    "\n"
   ]
  },
  {
   "cell_type": "markdown",
   "metadata": {},
   "source": [
    "## Feature: Provider Busyness, Number of Clinical Actions"
   ]
  },
  {
   "cell_type": "code",
   "execution_count": 22,
   "metadata": {},
   "outputs": [
    {
     "name": "stderr",
     "output_type": "stream",
     "text": [
      "/Library/Frameworks/Python.framework/Versions/3.6/lib/python3.6/site-packages/google/auth/_default.py:69: UserWarning: Your application has authenticated using end user credentials from Google Cloud SDK. We recommend that most server applications use service accounts instead. If your application continues to use end user credentials from Cloud SDK, you might receive a \"quota exceeded\" or \"API not enabled\" error. For more information about service accounts, see https://cloud.google.com/docs/authentication/\n",
      "  warnings.warn(_CLOUD_SDK_CREDENTIALS_WARNING)\n"
     ]
    },
    {
     "name": "stdout",
     "output_type": "stream",
     "text": [
      "(226, 3)\n",
      "['JCccb0ff' '131014194709' '48.77777777777778']\n",
      "131042907349\n",
      "131200184460\n",
      "131061494475\n",
      "131067184000\n",
      "131220003723\n",
      "131012891143\n",
      "131064361518\n",
      "131082126635\n",
      "131176161179\n",
      "131020557927\n",
      "131026081770\n",
      "131018945531\n",
      "131027180630\n",
      "131079163021\n",
      "131209193525\n",
      "131014553731\n",
      "131164013161\n",
      "131192149355\n",
      "131021801903\n",
      "131054492808\n",
      "131103562930\n",
      "131194574284\n",
      "131029787108\n",
      "131014276335\n",
      "131068658088\n",
      "131190358231\n",
      "131014194983\n",
      "131026160544\n",
      "131194806134\n",
      "131072133943\n",
      "131023986529\n",
      "131026361301\n",
      "131040474707\n",
      "131015684005\n",
      "131026682230\n",
      "131009784135\n",
      "131030331863\n",
      "131176444751\n"
     ]
    }
   ],
   "source": [
    "\n",
    "\n",
    "client = bigquery.Client(\"som-nero-phi-jonc101\"); # Project identifier\n",
    "conn = dbapi.connect(client);\n",
    "cursor = conn.cursor();\n",
    "query = \"select jc_uid, pat_enc_csn_id_coded, prov_busy_all_actions from `noshad.Feature_prov_busy_all_actions`\"; # Example dataset table\n",
    "cursor.execute(query);\n",
    "results = cursor.fetchall();\n",
    "\n",
    "A = np.array(results)\n",
    "print(A.shape)\n",
    "print(A[0,:])\n",
    "\n",
    "\n",
    "#with open('features/num_tnx.csv', 'r') as f:\n",
    "#    A_temp = csv.reader(f)\n",
    "#    temp = list(A_temp)\n",
    "\n",
    "#print(temp[0]) # The column names\n",
    "\n",
    "#A = np.array(temp[1:]) # array of t2tpa\n",
    "\n",
    "\n",
    "for id in Pat_dic.keys():\n",
    "    if A[np.where(A[:,1]==id)[0],2].shape[0] > 0:\n",
    "        num_actions = float(A[np.where(A[:,1]==id)[0],2])\n",
    "        Pat_dic[id]['Feature_prov_busy_all_actions'] = num_actions\n",
    "    else:\n",
    "        print(id)\n",
    "        Pat_dic[id]['Feature_prov_busy_all_actions'] = 0\n",
    "\n",
    "\n",
    "\n",
    "\n"
   ]
  },
  {
   "cell_type": "markdown",
   "metadata": {},
   "source": [
    "## Plot the Feature"
   ]
  },
  {
   "cell_type": "code",
   "execution_count": 24,
   "metadata": {},
   "outputs": [
    {
     "name": "stdout",
     "output_type": "stream",
     "text": [
      "(226,)\n",
      "(226, 1)\n",
      "(226, 1)\n"
     ]
    },
    {
     "data": {
      "image/png": "[encoded data removed]",
      "text/plain": [
       "<Figure size 432x288 with 1 Axes>"
      ]
     },
     "metadata": {
      "needs_background": "light"
     },
     "output_type": "display_data"
    }
   ],
   "source": [
    "\n",
    "from sklearn.linear_model import LinearRegression as LR\n",
    "\n",
    "from sklearn.metrics import roc_curve\n",
    "from matplotlib import rcParams\n",
    "rcParams['font.family'] = 'serif'\n",
    "rcParams.update({'font.size': 12})\n",
    "plt.rcParams['axes.labelweight'] = 'bold'\n",
    "import time\n",
    "\n",
    "\n",
    "\n",
    "Num_actions = np.array([Pat_dic[id]['Feature_prov_busy_all_actions'] for id in Pat_dic.keys() if Pat_dic[id]['Feature_prov_busy_all_actions']>0])\n",
    "Time2tpa = np.array([Pat_dic[id]['t2tpa'] for id in Pat_dic.keys() if Pat_dic[id]['Feature_prov_busy_all_actions']>0])\n",
    "\n",
    "D = np.where(Num_actions>-1)[0]\n",
    "print(D.shape)\n",
    "\n",
    "plt.scatter(Num_actions,Time2tpa,color='r')\n",
    "\n",
    "# Linear regression plot\n",
    "Num_actions = np.reshape(Num_actions,(-1,1))\n",
    "Time2tpa = np.reshape(Time2tpa,(-1,1))\n",
    "\n",
    "print(Num_actions.shape)\n",
    "print(Time2tpa.shape)\n",
    "\n",
    "Time2tpa_regr = LR().fit(Num_actions, Time2tpa).predict(Num_actions)\n",
    "plt.plot(Num_actions,Time2tpa_regr, color='blue', linewidth=3)\n",
    "\n",
    "plt.xlabel('Provider Busyness: Number of Clinical Actions')\n",
    "plt.ylabel('Time-to-TPA (min)')\n",
    "\n",
    "timestr = time.strftime(\"%m_%d_%Y_%H%M%S\")\n",
    "plt.tight_layout()\n",
    "plt.savefig('figures/'+timestr +'_prov_busy_all_actions' +'.png', dpi=300)\n",
    "\n",
    "\n",
    "\n",
    "\n",
    "plt.show()\n",
    "\n",
    "\n",
    "\n",
    "\n",
    "\n"
   ]
  },
  {
   "cell_type": "markdown",
   "metadata": {},
   "source": [
    "## Feature: Provider Busyness Number of Specific Actions"
   ]
  },
  {
   "cell_type": "code",
   "execution_count": 25,
   "metadata": {},
   "outputs": [
    {
     "name": "stderr",
     "output_type": "stream",
     "text": [
      "/Library/Frameworks/Python.framework/Versions/3.6/lib/python3.6/site-packages/google/auth/_default.py:69: UserWarning: Your application has authenticated using end user credentials from Google Cloud SDK. We recommend that most server applications use service accounts instead. If your application continues to use end user credentials from Cloud SDK, you might receive a \"quota exceeded\" or \"API not enabled\" error. For more information about service accounts, see https://cloud.google.com/docs/authentication/\n",
      "  warnings.warn(_CLOUD_SDK_CREDENTIALS_WARNING)\n"
     ]
    },
    {
     "name": "stdout",
     "output_type": "stream",
     "text": [
      "(226, 3)\n",
      "['JCce668e' '131024061523' '23.0']\n",
      "131042907349\n",
      "131200184460\n",
      "131061494475\n",
      "131067184000\n",
      "131220003723\n",
      "131012891143\n",
      "131064361518\n",
      "131082126635\n",
      "131176161179\n",
      "131020557927\n",
      "131026081770\n",
      "131018945531\n",
      "131027180630\n",
      "131079163021\n",
      "131209193525\n",
      "131014553731\n",
      "131164013161\n",
      "131192149355\n",
      "131021801903\n",
      "131054492808\n",
      "131103562930\n",
      "131194574284\n",
      "131029787108\n",
      "131014276335\n",
      "131068658088\n",
      "131190358231\n",
      "131014194983\n",
      "131026160544\n",
      "131194806134\n",
      "131072133943\n",
      "131023986529\n",
      "131026361301\n",
      "131040474707\n",
      "131015684005\n",
      "131026682230\n",
      "131009784135\n",
      "131030331863\n",
      "131176444751\n"
     ]
    }
   ],
   "source": [
    "\n",
    "\n",
    "client = bigquery.Client(\"som-nero-phi-jonc101\"); # Project identifier\n",
    "conn = dbapi.connect(client);\n",
    "cursor = conn.cursor();\n",
    "query = \"select jc_uid, pat_enc_csn_id_coded, prov_busy_specific_actions from `noshad.Feature_prov_busy_specific_actions`\"; # Example dataset table\n",
    "cursor.execute(query);\n",
    "results = cursor.fetchall();\n",
    "\n",
    "A = np.array(results)\n",
    "print(A.shape)\n",
    "print(A[0,:])\n",
    "\n",
    "\n",
    "#with open('features/num_tnx.csv', 'r') as f:\n",
    "#    A_temp = csv.reader(f)\n",
    "#    temp = list(A_temp)\n",
    "\n",
    "#print(temp[0]) # The column names\n",
    "\n",
    "#A = np.array(temp[1:]) # array of t2tpa\n",
    "\n",
    "\n",
    "for id in Pat_dic.keys():\n",
    "    if A[np.where(A[:,1]==id)[0],2].shape[0] > 0:\n",
    "        num_actions = float(A[np.where(A[:,1]==id)[0],2])\n",
    "        Pat_dic[id]['Feature_prov_busy_specific_actions'] = num_actions\n",
    "    else:\n",
    "        print(id)\n",
    "        Pat_dic[id]['Feature_prov_busy_specific_actions'] = 0\n",
    "\n",
    "\n",
    "\n",
    "\n",
    "\n"
   ]
  },
  {
   "cell_type": "markdown",
   "metadata": {},
   "source": [
    "## Feature: Plot "
   ]
  },
  {
   "cell_type": "code",
   "execution_count": 39,
   "metadata": {},
   "outputs": [
    {
     "name": "stdout",
     "output_type": "stream",
     "text": [
      "(226,)\n",
      "(226, 1)\n",
      "(226, 1)\n"
     ]
    },
    {
     "data": {
      "image/png": "[encoded data removed]",
      "text/plain": [
       "<Figure size 432x288 with 1 Axes>"
      ]
     },
     "metadata": {
      "needs_background": "light"
     },
     "output_type": "display_data"
    },
    {
     "name": "stdout",
     "output_type": "stream",
     "text": [
      "(-0.029699702773484098, 0.6569654976017)\n"
     ]
    }
   ],
   "source": [
    "\n",
    "from sklearn.linear_model import LinearRegression as LR\n",
    "\n",
    "from sklearn.metrics import roc_curve\n",
    "from matplotlib import rcParams\n",
    "rcParams['font.family'] = 'serif'\n",
    "rcParams.update({'font.size': 12})\n",
    "plt.rcParams['axes.labelweight'] = 'bold'\n",
    "import time\n",
    "\n",
    "\n",
    "\n",
    "Num_actions = np.array([Pat_dic[id]['Feature_prov_busy_specific_actions'] for id in Pat_dic.keys() if Pat_dic[id]['Feature_prov_busy_specific_actions']>0])\n",
    "Time2tpa = np.array([Pat_dic[id]['t2tpa'] for id in Pat_dic.keys() if Pat_dic[id]['Feature_prov_busy_specific_actions']>0])\n",
    "\n",
    "D = np.where(Num_actions>-1)[0]\n",
    "print(D.shape)\n",
    "\n",
    "plt.scatter(Num_actions,Time2tpa,color='r')\n",
    "\n",
    "# Linear regression plot\n",
    "Num_actions = np.reshape(Num_actions,(-1,1))\n",
    "Time2tpa = np.reshape(Time2tpa,(-1,1))\n",
    "\n",
    "print(Num_actions.shape)\n",
    "print(Time2tpa.shape)\n",
    "\n",
    "Time2tpa_regr = LR().fit(Num_actions, Time2tpa).predict(Num_actions)\n",
    "plt.plot(Num_actions,Time2tpa_regr, color='blue', linewidth=3)\n",
    "\n",
    "plt.xlabel('Provider Busyness: Number of Specific Actions')\n",
    "plt.ylabel('Time-to-TPA (min)')\n",
    "\n",
    "timestr = time.strftime(\"%m_%d_%Y_%H%M%S\")\n",
    "plt.tight_layout()\n",
    "plt.savefig('figures/'+timestr +'_prov_busy_specific_actions' +'.png', dpi=300)\n",
    "\n",
    "\n",
    "\n",
    "\n",
    "plt.show()\n",
    "\n",
    "\n",
    "\n",
    "print(pearsonr(np.reshape(Num_actions,(-1,)), np.reshape((Time2tpa),(-1,))))\n",
    "\n",
    "\n",
    "\n",
    "\n"
   ]
  },
  {
   "cell_type": "markdown",
   "metadata": {},
   "source": [
    "## Feature: Provider Busyness Number of all Active Patients"
   ]
  },
  {
   "cell_type": "code",
   "execution_count": 27,
   "metadata": {},
   "outputs": [
    {
     "name": "stderr",
     "output_type": "stream",
     "text": [
      "/Library/Frameworks/Python.framework/Versions/3.6/lib/python3.6/site-packages/google/auth/_default.py:69: UserWarning: Your application has authenticated using end user credentials from Google Cloud SDK. We recommend that most server applications use service accounts instead. If your application continues to use end user credentials from Cloud SDK, you might receive a \"quota exceeded\" or \"API not enabled\" error. For more information about service accounts, see https://cloud.google.com/docs/authentication/\n",
      "  warnings.warn(_CLOUD_SDK_CREDENTIALS_WARNING)\n"
     ]
    },
    {
     "name": "stdout",
     "output_type": "stream",
     "text": [
      "(226, 3)\n",
      "['JCccb0ff' '131014194709' '3.1111111111111116']\n",
      "131042907349\n",
      "131200184460\n",
      "131061494475\n",
      "131067184000\n",
      "131220003723\n",
      "131012891143\n",
      "131064361518\n",
      "131082126635\n",
      "131176161179\n",
      "131020557927\n",
      "131026081770\n",
      "131018945531\n",
      "131027180630\n",
      "131079163021\n",
      "131209193525\n",
      "131014553731\n",
      "131164013161\n",
      "131192149355\n",
      "131021801903\n",
      "131054492808\n",
      "131103562930\n",
      "131194574284\n",
      "131029787108\n",
      "131014276335\n",
      "131068658088\n",
      "131190358231\n",
      "131014194983\n",
      "131026160544\n",
      "131194806134\n",
      "131072133943\n",
      "131023986529\n",
      "131026361301\n",
      "131040474707\n",
      "131015684005\n",
      "131026682230\n",
      "131009784135\n",
      "131030331863\n",
      "131176444751\n"
     ]
    }
   ],
   "source": [
    "\n",
    "\n",
    "client = bigquery.Client(\"som-nero-phi-jonc101\"); # Project identifier\n",
    "conn = dbapi.connect(client);\n",
    "cursor = conn.cursor();\n",
    "query = \"select jc_uid, pat_enc_csn_id_coded, prov_busy_num_pat from `noshad.Feature_prov_busy_num_pat`\"; # Example dataset table\n",
    "cursor.execute(query);\n",
    "results = cursor.fetchall();\n",
    "\n",
    "A = np.array(results)\n",
    "print(A.shape)\n",
    "print(A[0,:])\n",
    "\n",
    "\n",
    "#with open('features/num_tnx.csv', 'r') as f:\n",
    "#    A_temp = csv.reader(f)\n",
    "#    temp = list(A_temp)\n",
    "\n",
    "#print(temp[0]) # The column names\n",
    "\n",
    "#A = np.array(temp[1:]) # array of t2tpa\n",
    "\n",
    "\n",
    "for id in Pat_dic.keys():\n",
    "    if A[np.where(A[:,1]==id)[0],2].shape[0] > 0:\n",
    "        num_actions = float(A[np.where(A[:,1]==id)[0],2])\n",
    "        Pat_dic[id]['Feature_prov_busy_num_pat'] = num_actions\n",
    "    else:\n",
    "        print(id)\n",
    "        Pat_dic[id]['Feature_prov_busy_num_pat'] = 0\n",
    "\n",
    "\n",
    "\n",
    "\n",
    "\n",
    "\n"
   ]
  },
  {
   "cell_type": "markdown",
   "metadata": {},
   "source": [
    "## Plot the Feature"
   ]
  },
  {
   "cell_type": "code",
   "execution_count": 40,
   "metadata": {},
   "outputs": [
    {
     "name": "stdout",
     "output_type": "stream",
     "text": [
      "(226,)\n",
      "(226, 1)\n",
      "(226, 1)\n"
     ]
    },
    {
     "data": {
      "image/png": "[encoded data removed]",
      "text/plain": [
       "<Figure size 432x288 with 1 Axes>"
      ]
     },
     "metadata": {
      "needs_background": "light"
     },
     "output_type": "display_data"
    },
    {
     "name": "stdout",
     "output_type": "stream",
     "text": [
      "(-0.10932365713742515, 0.10115107073019175)\n"
     ]
    }
   ],
   "source": [
    "\n",
    "from sklearn.linear_model import LinearRegression as LR\n",
    "\n",
    "from sklearn.metrics import roc_curve\n",
    "from matplotlib import rcParams\n",
    "rcParams['font.family'] = 'serif'\n",
    "rcParams.update({'font.size': 12})\n",
    "plt.rcParams['axes.labelweight'] = 'bold'\n",
    "import time\n",
    "\n",
    "\n",
    "\n",
    "Num_actions = np.array([Pat_dic[id]['Feature_prov_busy_num_pat'] for id in Pat_dic.keys() if Pat_dic[id]['Feature_prov_busy_num_pat']>0])\n",
    "Time2tpa = np.array([Pat_dic[id]['t2tpa'] for id in Pat_dic.keys() if Pat_dic[id]['Feature_prov_busy_num_pat']>0])\n",
    "\n",
    "D = np.where(Num_actions>-1)[0]\n",
    "print(D.shape)\n",
    "\n",
    "plt.scatter(Num_actions,Time2tpa,color='r')\n",
    "\n",
    "# Linear regression plot\n",
    "Num_actions = np.reshape(Num_actions,(-1,1))\n",
    "Time2tpa = np.reshape(Time2tpa,(-1,1))\n",
    "\n",
    "print(Num_actions.shape)\n",
    "print(Time2tpa.shape)\n",
    "\n",
    "Time2tpa_regr = LR().fit(Num_actions, Time2tpa).predict(Num_actions)\n",
    "plt.plot(Num_actions,Time2tpa_regr, color='blue', linewidth=3)\n",
    "\n",
    "plt.xlabel('Provider Busyness: Number of Patients')\n",
    "plt.ylabel('Time-to-TPA (min)')\n",
    "\n",
    "timestr = time.strftime(\"%m_%d_%Y_%H%M%S\")\n",
    "plt.tight_layout()\n",
    "plt.savefig('figures/'+timestr +'_prov_busy_num_pat' +'.png', dpi=300)\n",
    "\n",
    "\n",
    "\n",
    "\n",
    "plt.show()\n",
    "\n",
    "\n",
    "print(pearsonr(np.reshape(Num_actions,(-1,)), np.reshape((Time2tpa),(-1,))))\n",
    "\n",
    "\n",
    "\n",
    "\n",
    "\n",
    "\n"
   ]
  },
  {
   "cell_type": "markdown",
   "metadata": {},
   "source": [
    "## Feature: Team Size"
   ]
  },
  {
   "cell_type": "code",
   "execution_count": 29,
   "metadata": {},
   "outputs": [
    {
     "name": "stderr",
     "output_type": "stream",
     "text": [
      "/Library/Frameworks/Python.framework/Versions/3.6/lib/python3.6/site-packages/google/auth/_default.py:69: UserWarning: Your application has authenticated using end user credentials from Google Cloud SDK. We recommend that most server applications use service accounts instead. If your application continues to use end user credentials from Cloud SDK, you might receive a \"quota exceeded\" or \"API not enabled\" error. For more information about service accounts, see https://cloud.google.com/docs/authentication/\n",
      "  warnings.warn(_CLOUD_SDK_CREDENTIALS_WARNING)\n"
     ]
    },
    {
     "name": "stdout",
     "output_type": "stream",
     "text": [
      "(226, 3)\n",
      "['JCccb0ff' '131014194709' '9']\n",
      "131042907349\n",
      "131200184460\n",
      "131061494475\n",
      "131067184000\n",
      "131220003723\n",
      "131012891143\n",
      "131064361518\n",
      "131082126635\n",
      "131176161179\n",
      "131020557927\n",
      "131026081770\n",
      "131018945531\n",
      "131027180630\n",
      "131079163021\n",
      "131209193525\n",
      "131014553731\n",
      "131164013161\n",
      "131192149355\n",
      "131021801903\n",
      "131054492808\n",
      "131103562930\n",
      "131194574284\n",
      "131029787108\n",
      "131014276335\n",
      "131068658088\n",
      "131190358231\n",
      "131014194983\n",
      "131026160544\n",
      "131194806134\n",
      "131072133943\n",
      "131023986529\n",
      "131026361301\n",
      "131040474707\n",
      "131015684005\n",
      "131026682230\n",
      "131009784135\n",
      "131030331863\n",
      "131176444751\n"
     ]
    }
   ],
   "source": [
    "\n",
    "\n",
    "client = bigquery.Client(\"som-nero-phi-jonc101\"); # Project identifier\n",
    "conn = dbapi.connect(client);\n",
    "cursor = conn.cursor();\n",
    "query = \"select jc_uid, pat_enc_csn_id_coded, team_size from `noshad.Feature_prov_busy_num_pat`\"; # Example dataset table\n",
    "cursor.execute(query);\n",
    "results = cursor.fetchall();\n",
    "\n",
    "A = np.array(results)\n",
    "print(A.shape)\n",
    "print(A[0,:])\n",
    "\n",
    "\n",
    "#with open('features/num_tnx.csv', 'r') as f:\n",
    "#    A_temp = csv.reader(f)\n",
    "#    temp = list(A_temp)\n",
    "\n",
    "#print(temp[0]) # The column names\n",
    "\n",
    "#A = np.array(temp[1:]) # array of t2tpa\n",
    "\n",
    "\n",
    "for id in Pat_dic.keys():\n",
    "    if A[np.where(A[:,1]==id)[0],2].shape[0] > 0:\n",
    "        num_actions = float(A[np.where(A[:,1]==id)[0],2])\n",
    "        Pat_dic[id]['team_size'] = num_actions\n",
    "    else:\n",
    "        print(id)\n",
    "        Pat_dic[id]['team_size'] = 0\n",
    "\n",
    "\n",
    "\n"
   ]
  },
  {
   "cell_type": "markdown",
   "metadata": {},
   "source": [
    "# Plot the Feature"
   ]
  },
  {
   "cell_type": "code",
   "execution_count": 41,
   "metadata": {},
   "outputs": [
    {
     "name": "stdout",
     "output_type": "stream",
     "text": [
      "(226,)\n",
      "(226, 1)\n",
      "(226, 1)\n"
     ]
    },
    {
     "data": {
      "image/png": "[encoded data removed]",
      "text/plain": [
       "<Figure size 432x288 with 1 Axes>"
      ]
     },
     "metadata": {
      "needs_background": "light"
     },
     "output_type": "display_data"
    },
    {
     "name": "stdout",
     "output_type": "stream",
     "text": [
      "(-0.14593511387147437, 0.02827303771793398)\n"
     ]
    }
   ],
   "source": [
    "\n",
    "from sklearn.linear_model import LinearRegression as LR\n",
    "\n",
    "from sklearn.metrics import roc_curve\n",
    "from matplotlib import rcParams\n",
    "rcParams['font.family'] = 'serif'\n",
    "rcParams.update({'font.size': 12})\n",
    "plt.rcParams['axes.labelweight'] = 'bold'\n",
    "import time\n",
    "\n",
    "\n",
    "\n",
    "Num_actions = np.array([Pat_dic[id]['team_size'] for id in Pat_dic.keys() if Pat_dic[id]['team_size']>0])\n",
    "Time2tpa = np.array([Pat_dic[id]['t2tpa'] for id in Pat_dic.keys() if Pat_dic[id]['team_size']>0])\n",
    "\n",
    "D = np.where(Num_actions>-1)[0]\n",
    "print(D.shape)\n",
    "\n",
    "plt.scatter(Num_actions,Time2tpa,color='r')\n",
    "\n",
    "# Linear regression plot\n",
    "Num_actions = np.reshape(Num_actions,(-1,1))\n",
    "Time2tpa = np.reshape(Time2tpa,(-1,1))\n",
    "\n",
    "print(Num_actions.shape)\n",
    "print(Time2tpa.shape)\n",
    "\n",
    "Time2tpa_regr = LR().fit(Num_actions, Time2tpa).predict(Num_actions)\n",
    "plt.plot(Num_actions,Time2tpa_regr, color='blue', linewidth=3)\n",
    "\n",
    "plt.xlabel('Provider Busyness: Treatment Team Size')\n",
    "plt.ylabel('Time-to-TPA (min)')\n",
    "\n",
    "timestr = time.strftime(\"%m_%d_%Y_%H%M%S\")\n",
    "plt.tight_layout()\n",
    "plt.savefig('figures/'+timestr +'_team_size' +'.png', dpi=300)\n",
    "\n",
    "\n",
    "\n",
    "\n",
    "plt.show()\n",
    "\n",
    "\n",
    "\n",
    "print(pearsonr(np.reshape(Num_actions,(-1,)), np.reshape((Time2tpa),(-1,))))\n",
    "\n",
    "\n",
    "\n",
    "\n",
    "\n",
    "\n"
   ]
  },
  {
   "cell_type": "code",
   "execution_count": null,
   "metadata": {},
   "outputs": [],
   "source": []
  }
 ],
 "metadata": {
  "kernelspec": {
   "display_name": "Python 3",
   "language": "python",
   "name": "python3"
  },
  "language_info": {
   "codemirror_mode": {
    "name": "ipython",
    "version": 3
   },
   "file_extension": ".py",
   "mimetype": "text/x-python",
   "name": "python",
   "nbconvert_exporter": "python",
   "pygments_lexer": "ipython3",
   "version": "3.6.6"
  }
 },
 "nbformat": 4,
 "nbformat_minor": 2
}
