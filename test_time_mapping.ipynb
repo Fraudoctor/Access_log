{
 "cells": [
  {
   "cell_type": "code",
   "execution_count": 1,
   "metadata": {},
   "outputs": [],
   "source": [
    "# %matplotlib inline\n",
    "#%matplotlib notebook\n",
    "import matplotlib.pyplot as plt\n",
    "import numpy as np\n",
    "import matplotlib\n",
    "#matplotlib.use('TkAgg')\n",
    "import matplotlib.pyplot as plt"
   ]
  },
  {
   "cell_type": "code",
   "execution_count": 2,
   "metadata": {},
   "outputs": [
    {
     "name": "stdout",
     "output_type": "stream",
     "text": [
      "(2155411, 3)\n"
     ]
    }
   ],
   "source": [
    "# load text tole_stat.csv; this file contains different user types and total counts\n",
    "import csv\n",
    "with open('jon_mapping.csv', 'r') as f:\n",
    "    A = csv.reader(f)\n",
    "    temp = list(A)\n",
    "\n",
    "X = temp[1:]\n",
    "#print(X)\n",
    "#X = np.genfromtxt('role_stat.csv', delimiter=',')\n",
    "X = np.array(X)\n",
    "print(X.shape)\n"
   ]
  },
  {
   "cell_type": "code",
   "execution_count": 10,
   "metadata": {},
   "outputs": [
    {
     "name": "stdout",
     "output_type": "stream",
     "text": [
      "[[['10322360' 'JCcbadf1' '-14']]]\n",
      "[[['12056479' 'JCcbf918' '19']]]\n",
      "[[['15406010' 'JCcef889' '7']]]\n",
      "[[['20473211' 'JCdabe61' '14']]]\n"
     ]
    }
   ],
   "source": [
    "#find the MRNs of specific people\n",
    "print(X[np.where(X[:,1]=='JCcbadf1'),:])\n",
    "print(X[np.where(X[:,1]=='JCcbf918'),:])\n",
    "print(X[np.where(X[:,1]=='JCcef889'),:])\n",
    "print(X[np.where(X[:,1]=='JCdabe61'),:])\n",
    "\n",
    "\n"
   ]
  },
  {
   "cell_type": "code",
   "execution_count": null,
   "metadata": {},
   "outputs": [],
   "source": []
  }
 ],
 "metadata": {
  "kernelspec": {
   "display_name": "Python 3",
   "language": "python",
   "name": "python3"
  },
  "language_info": {
   "codemirror_mode": {
    "name": "ipython",
    "version": 3
   },
   "file_extension": ".py",
   "mimetype": "text/x-python",
   "name": "python",
   "nbconvert_exporter": "python",
   "pygments_lexer": "ipython3",
   "version": "3.6.6"
  }
 },
 "nbformat": 4,
 "nbformat_minor": 2
}
