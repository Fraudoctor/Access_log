{
 "cells": [
  {
   "cell_type": "code",
   "execution_count": 61,
   "metadata": {},
   "outputs": [
    {
     "name": "stdout",
     "output_type": "stream",
     "text": [
      "['jc_uid', 'pat_enc_csn_id_coded', 't2tpa']\n",
      "(246, 3)\n"
     ]
    }
   ],
   "source": [
    "# %matplotlib inline\n",
    "#%matplotlib notebook\n",
    "import matplotlib.pyplot as plt\n",
    "import numpy as np\n",
    "import matplotlib\n",
    "#matplotlib.use('TkAgg')\n",
    "import matplotlib.pyplot as plt\n",
    "\n",
    "# Create t2tpa from Acces log data using a Sql quryyy\n",
    "\n",
    "# load text tole_stat.csv; this file contains different user types and total counts\n",
    "import csv\n",
    "with open('features/t2tpa.csv', 'r') as f:\n",
    "    A_temp = csv.reader(f)\n",
    "    temp = list(A_temp)\n",
    "\n",
    "print(temp[0]) # The column names\n",
    "\n",
    "A = np.array(temp[1:]) # arrat of t2tpa\n",
    "print(A.shape)\n",
    "Enc_ID = A[:,1]  \n",
    "#print(A[:,2] )"
   ]
  },
  {
   "cell_type": "code",
   "execution_count": 62,
   "metadata": {},
   "outputs": [],
   "source": [
    "\n",
    "# Create the patient dictionary and extract TPA times for each encounter and put it in a dictionary\n",
    "\n",
    "Pat_dic = {}\n",
    "\n",
    "for id in Enc_ID:\n",
    "    #print(id)\n",
    "    #print(np.where(A[:,1]==id)[0])\n",
    "    #print(A[np.where(A[:,1]==id)[0],2])\n",
    "    t2tpa = int(A[np.where(A[:,1]==id)[0],2])\n",
    "    pat_id = A[np.where(A[:,1]==id)[0],0]\n",
    "    \n",
    "    #print(t2tpa)\n",
    "    if t2tpa < 60*10:\n",
    "        Pat_dic[id] = {} #each patient has a dictionary\n",
    "        Pat_dic[id]['t2tpa'] = t2tpa\n",
    "        Pat_dic[id]['pat_id'] = pat_id"
   ]
  },
  {
   "cell_type": "code",
   "execution_count": 59,
   "metadata": {},
   "outputs": [
    {
     "name": "stdout",
     "output_type": "stream",
     "text": [
      "['jc_uid', 'pat_enc_csn_id_coded', 'max_norm_num_tranx']\n",
      "131042907349\n"
     ]
    }
   ],
   "source": [
    "# Feature: import Num of transactions and add it to the patient dictionary\n",
    "\n",
    "with open('features/num_tnx.csv', 'r') as f:\n",
    "    A_temp = csv.reader(f)\n",
    "    temp = list(A_temp)\n",
    "\n",
    "print(temp[0]) # The column names\n",
    "\n",
    "A = np.array(temp[1:]) # array of t2tpa\n",
    "\n",
    "\n",
    "for id in Pat_dic.keys():\n",
    "    if A[np.where(A[:,1]==id)[0],2].shape[0] > 0:\n",
    "        num_actions = float(A[np.where(A[:,1]==id)[0],2])\n",
    "        Pat_dic[id]['num_actions'] = num_actions\n",
    "    else:\n",
    "        print(id)\n",
    "        Pat_dic[id]['num_actions'] = 0\n"
   ]
  },
  {
   "cell_type": "code",
   "execution_count": 60,
   "metadata": {},
   "outputs": [
    {
     "name": "stdout",
     "output_type": "stream",
     "text": [
      "(246,)\n",
      "(246, 1)\n",
      "(246, 1)\n"
     ]
    },
    {
     "data": {
      "image/png": "[encoded data removed]",
      "text/plain": [
       "<Figure size 432x288 with 1 Axes>"
      ]
     },
     "metadata": {
      "needs_background": "light"
     },
     "output_type": "display_data"
    }
   ],
   "source": [
    "# plot num actions in terms of t2tpa\n",
    "from sklearn.linear_model import LinearRegression as LR\n",
    "\n",
    "Num_actions = np.array([Pat_dic[id]['num_actions'] for id in Pat_dic.keys()])\n",
    "Time2tpa = np.array([Pat_dic[id]['t2tpa'] for id in Pat_dic.keys()])\n",
    "\n",
    "D = np.where(Num_actions>-1)[0]\n",
    "print(D.shape)\n",
    "\n",
    "plt.scatter(Num_actions,Time2tpa,color='r')\n",
    "\n",
    "# Linear regression plot\n",
    "Num_actions = np.reshape(Num_actions,(-1,1))\n",
    "Time2tpa = np.reshape(Time2tpa,(-1,1))\n",
    "\n",
    "print(Num_actions.shape)\n",
    "print(Time2tpa.shape)\n",
    "\n",
    "Time2tpa_regr = LR().fit(Num_actions, Time2tpa).predict(Num_actions)\n",
    "plt.plot(Num_actions,Time2tpa_regr, color='blue', linewidth=3)\n",
    "\n",
    "plt.xlabel('Num_actions')\n",
    "plt.ylabel('Time-to-TPA (min)')\n",
    "\n",
    "plt.show()\n",
    "\n"
   ]
  },
  {
   "cell_type": "code",
   "execution_count": 65,
   "metadata": {},
   "outputs": [
    {
     "name": "stdout",
     "output_type": "stream",
     "text": [
      "['jc_uid', 'pat_enc_csn_id_coded', 'max_num_new_pat_rate', 'sum_num_new_pat_rate']\n"
     ]
    }
   ],
   "source": [
    "# Feature: import Num of new patients and add it to the patient dictionary\n",
    "\n",
    "with open('features/num_new_pat.csv', 'r') as f:\n",
    "    A_temp = csv.reader(f)\n",
    "    temp = list(A_temp)\n",
    "\n",
    "print(temp[0]) # The column names\n",
    "\n",
    "A = np.array(temp[1:]) # arrat of t2tpa\n",
    "\n",
    "\n",
    "for id in Pat_dic.keys():\n",
    "    if A[np.where(A[:,1]==id)[0],2].shape[0] > 0:\n",
    "        num_actions = float(A[np.where(A[:,1]==id)[0],3])\n",
    "        Pat_dic[id]['num_new_pat'] = num_actions\n",
    "    else:\n",
    "        #print(id)\n",
    "        Pat_dic[id]['num_new_pat'] = 0\n",
    "\n"
   ]
  },
  {
   "cell_type": "code",
   "execution_count": 66,
   "metadata": {},
   "outputs": [
    {
     "name": "stdout",
     "output_type": "stream",
     "text": [
      "(246,)\n",
      "(246, 1)\n",
      "(246, 1)\n"
     ]
    },
    {
     "data": {
      "image/png": "[encoded data removed]",
      "text/plain": [
       "<Figure size 432x288 with 1 Axes>"
      ]
     },
     "metadata": {
      "needs_background": "light"
     },
     "output_type": "display_data"
    }
   ],
   "source": [
    "# plot num new patients in terms of t2tpa\n",
    "from sklearn.linear_model import LinearRegression as LR\n",
    "\n",
    "Num_new_pat = np.array([Pat_dic[id]['num_new_pat'] for id in Pat_dic.keys()])\n",
    "Time2tpa = np.array([Pat_dic[id]['t2tpa'] for id in Pat_dic.keys()])\n",
    "\n",
    "D = np.where(Num_new_pat>-1)[0]\n",
    "print(D.shape)\n",
    "\n",
    "plt.scatter(Num_new_pat,Time2tpa,color='r')\n",
    "\n",
    "# Linear regression plot\n",
    "Num_new_pat = np.reshape(Num_new_pat,(-1,1))\n",
    "Time2tpa = np.reshape(Time2tpa,(-1,1))\n",
    "\n",
    "print(Num_new_pat.shape)\n",
    "print(Time2tpa.shape)\n",
    "\n",
    "Time2tpa_regr = LR().fit(Num_new_pat, Time2tpa).predict(Num_new_pat)\n",
    "plt.plot(Num_new_pat,Time2tpa_regr, color='blue', linewidth=3)\n",
    "\n",
    "plt.xlabel('Number of New Patients')\n",
    "plt.ylabel('Time-to-TPA (min)')\n",
    "\n",
    "plt.show()\n",
    "print('COMMENT: The number of users might be proportional to the number of patients')\n",
    "\n"
   ]
  },
  {
   "cell_type": "code",
   "execution_count": 68,
   "metadata": {},
   "outputs": [
    {
     "name": "stdout",
     "output_type": "stream",
     "text": [
      "['jc_uid', 'pat_enc_csn_id_coded', 'max_num_unq_pat']\n"
     ]
    }
   ],
   "source": [
    "# Feature: import Num of unique patients and add it to the patient dictionary\n",
    "\n",
    "with open('features/num_unq_pat.csv', 'r') as f:\n",
    "    A_temp = csv.reader(f)\n",
    "    temp = list(A_temp)\n",
    "\n",
    "print(temp[0]) # The column names\n",
    "\n",
    "A = np.array(temp[1:]) # arrat of t2tpa\n",
    "\n",
    "\n",
    "for id in Pat_dic.keys():\n",
    "    if A[np.where(A[:,1]==id)[0],2].shape[0] > 0:\n",
    "        num_actions = float(A[np.where(A[:,1]==id)[0],2])\n",
    "        Pat_dic[id]['num_unq_pat'] = num_actions\n",
    "    else:\n",
    "        #print(id)\n",
    "        Pat_dic[id]['num_unq_pat'] = 0\n",
    "\n",
    "\n"
   ]
  },
  {
   "cell_type": "code",
   "execution_count": 71,
   "metadata": {},
   "outputs": [
    {
     "name": "stdout",
     "output_type": "stream",
     "text": [
      "(241,)\n",
      "(241, 1)\n",
      "(241, 1)\n"
     ]
    },
    {
     "data": {
      "image/png": "[encoded data removed]",
      "text/plain": [
       "<Figure size 432x288 with 1 Axes>"
      ]
     },
     "metadata": {
      "needs_background": "light"
     },
     "output_type": "display_data"
    },
    {
     "name": "stdout",
     "output_type": "stream",
     "text": [
      "COMMENT: The number of users might be proportional to the number of patients\n"
     ]
    }
   ],
   "source": [
    "# plot feature\n",
    "from sklearn.linear_model import LinearRegression as LR\n",
    "\n",
    "X = np.array([Pat_dic[id]['num_unq_pat'] for id in Pat_dic.keys()])\n",
    "Time2tpa = np.array([Pat_dic[id]['t2tpa'] for id in Pat_dic.keys()])\n",
    "\n",
    "# remove outliers\n",
    "D = np.where(X<500)[0]\n",
    "print(D.shape)\n",
    "X = X[D]\n",
    "Time2tpa = Time2tpa[D]\n",
    "\n",
    "plt.scatter(X,Time2tpa,color='r')\n",
    "\n",
    "# Linear regression plot\n",
    "X = np.reshape(X,(-1,1))\n",
    "Time2tpa = np.reshape(Time2tpa,(-1,1))\n",
    "\n",
    "print(X.shape)\n",
    "print(Time2tpa.shape)\n",
    "\n",
    "Time2tpa_regr = LR().fit(X, Time2tpa).predict(X)\n",
    "plt.plot(X,Time2tpa_regr, color='blue', linewidth=3)\n",
    "\n",
    "plt.xlabel('Number of Unique Patients')\n",
    "plt.ylabel('Time-to-TPA (min)')\n",
    "\n",
    "plt.show()\n",
    "\n",
    "print('COMMENT: The number of users might be proportional to the number of patients')\n"
   ]
  },
  {
   "cell_type": "code",
   "execution_count": null,
   "metadata": {},
   "outputs": [],
   "source": []
  }
 ],
 "metadata": {
  "kernelspec": {
   "display_name": "Python 3",
   "language": "python",
   "name": "python3"
  },
  "language_info": {
   "codemirror_mode": {
    "name": "ipython",
    "version": 3
   },
   "file_extension": ".py",
   "mimetype": "text/x-python",
   "name": "python",
   "nbconvert_exporter": "python",
   "pygments_lexer": "ipython3",
   "version": "3.6.6"
  }
 },
 "nbformat": 4,
 "nbformat_minor": 2
}
