{
 "cells": [
  {
   "cell_type": "code",
   "execution_count": 1,
   "metadata": {},
   "outputs": [
    {
     "name": "stderr",
     "output_type": "stream",
     "text": [
      "/Library/Frameworks/Python.framework/Versions/3.6/lib/python3.6/site-packages/google/auth/_default.py:69: UserWarning: Your application has authenticated using end user credentials from Google Cloud SDK. We recommend that most server applications use service accounts instead. If your application continues to use end user credentials from Cloud SDK, you might receive a \"quota exceeded\" or \"API not enabled\" error. For more information about service accounts, see https://cloud.google.com/docs/authentication/\n",
      "  warnings.warn(_CLOUD_SDK_CREDENTIALS_WARNING)\n"
     ]
    }
   ],
   "source": [
    "# import necessary libraries\n",
    "\n",
    "%matplotlib inline\n",
    "import matplotlib.pyplot as plt\n",
    "import numpy as np\n",
    "import matplotlib\n",
    "#matplotlib.use('TkAgg')\n",
    "import matplotlib.pyplot as plt\n",
    "\n",
    "# BigQuery settings\n",
    "from google.cloud import bigquery\n",
    "from google.cloud.bigquery import dbapi;\n",
    "client = bigquery.Client(\"som-nero-phi-jonc101\"); # Project identifier\n",
    "conn = dbapi.connect(client);\n",
    "cursor = conn.cursor();"
   ]
  },
  {
   "cell_type": "code",
   "execution_count": null,
   "metadata": {},
   "outputs": [],
   "source": [
    "# ignore if local tmp.csv already exists\n",
    "# read the time matching CSV and remove MRNs for security reasons (ignore if local tmp.csv already exists)\n",
    "import pandas as pd\n",
    "data_frame = pd.read_csv('jon_mapping.csv')\n",
    "data_frame = data_frame.drop('MRN', axis = 1) \n",
    "data_frame.to_csv('tmp.csv', index = False)"
   ]
  },
  {
   "cell_type": "code",
   "execution_count": null,
   "metadata": {},
   "outputs": [],
   "source": [
    "# only for testing\n",
    "# Generate a random mapping (CSV file) to test (only for testing)\n",
    "\n",
    "import pandas as pd\n",
    "data_frame = pd.read_csv('tmp.csv')\n",
    "print(list(data_frame.columns)) # print the column names\n",
    "\n",
    "num_row = data_frame.shape[0]\n",
    "print(num_row) # print num_row\n",
    "\n",
    "data_frame = data_frame.drop('JITTER', axis = 1) # remove a column\n",
    "\n",
    "data_frame['JITTER_test']= np.random.randint(10, size=num_row) # add a column \n",
    "\n",
    "print(data_frame[0:10]) # print the first 10 rows\n",
    "\n",
    "data_frame.to_csv('tmp_rnd_shift.csv', index = False) # save to CSV"
   ]
  },
  {
   "cell_type": "code",
   "execution_count": 2,
   "metadata": {},
   "outputs": [
    {
     "name": "stdout",
     "output_type": "stream",
     "text": [
      "['jc_uid', 'pat_enc_csn_id_coded', 't2tpa']\n",
      "(246, 3)\n"
     ]
    }
   ],
   "source": [
    "## Create the dictionary of patients (keys are encounter ids)\n",
    "\n",
    "# load text tole_stat.csv; this file contains different user types and total counts\n",
    "import csv\n",
    "with open('features/t2tpa.csv', 'r') as f:\n",
    "    A_temp = csv.reader(f)\n",
    "    temp = list(A_temp)\n",
    "\n",
    "print(temp[0]) # The column names\n",
    "\n",
    "A = np.array(temp[1:]) # arrat of t2tpa\n",
    "print(A.shape)\n",
    "Enc_ID = A[:,1]  \n",
    "\n",
    "\n",
    "# Create the patient dictionary and extract TPA times for each encounter and put it in a dictionary\n",
    "\n",
    "Pat_dic = {}\n",
    "\n",
    "for id in Enc_ID:\n",
    "    #print(id)\n",
    "    #print(np.where(A[:,1]==id)[0])\n",
    "    #print(A[np.where(A[:,1]==id)[0],2])\n",
    "    t2tpa = int(A[np.where(A[:,1]==id)[0],2])\n",
    "    pat_id = A[np.where(A[:,1]==id)[0],0]\n",
    "    \n",
    "    #print(t2tpa)\n",
    "    if t2tpa < 60*10:\n",
    "        Pat_dic[id] = {} #each patient has a dictionary\n",
    "        Pat_dic[id]['t2tpa'] = t2tpa\n",
    "        Pat_dic[id]['pat_id'] = pat_id"
   ]
  },
  {
   "cell_type": "code",
   "execution_count": 22,
   "metadata": {},
   "outputs": [
    {
     "name": "stderr",
     "output_type": "stream",
     "text": [
      "/Library/Frameworks/Python.framework/Versions/3.6/lib/python3.6/site-packages/google/auth/_default.py:69: UserWarning: Your application has authenticated using end user credentials from Google Cloud SDK. We recommend that most server applications use service accounts instead. If your application continues to use end user credentials from Cloud SDK, you might receive a \"quota exceeded\" or \"API not enabled\" error. For more information about service accounts, see https://cloud.google.com/docs/authentication/\n",
      "  warnings.warn(_CLOUD_SDK_CREDENTIALS_WARNING)\n"
     ]
    },
    {
     "name": "stdout",
     "output_type": "stream",
     "text": [
      "temporary tmp file generated\n",
      "Query Completed\n",
      "[131071934721 'SS0067345' 99]\n",
      "Query Completed\n",
      "[131011501539 datetime.datetime(2010, 11, 17, 13, 19)]\n",
      "Into numpy\n",
      "tmp deleted\n",
      "team members added to the dictionary\n"
     ]
    }
   ],
   "source": [
    "## Extract team members\n",
    "\n",
    "\n",
    "client = bigquery.Client(\"som-nero-phi-jonc101\"); # Project identifier\n",
    "conn = dbapi.connect(client);\n",
    "cursor = conn.cursor();\n",
    "\n",
    "# Upload time_mapping tmp.CSV \n",
    "\n",
    "schemafield_col1 = bigquery.schema.SchemaField(\"ANON_ID\",\"STRING\") #Define your schema\n",
    "schemafield_col2 = bigquery.schema.SchemaField(\"JITTER\",\"INTEGER\")\n",
    "\n",
    "filename = 'tmp.csv'\n",
    "table_id = 'tmp' # the name of the chart to create\n",
    "\n",
    "dataset_ref = client.dataset('noshad')\n",
    "table_ref = dataset_ref.table(table_id)\n",
    "\n",
    "job_config = bigquery.LoadJobConfig()\n",
    "job_config.source_format = bigquery.SourceFormat.CSV\n",
    "job_config.skip_leading_rows = 1\n",
    "job_config.autodetect = True\n",
    "\n",
    "with open(filename, \"rb\") as source_file:\n",
    "    job = client.load_table_from_file(source_file, table_ref, job_config=job_config)\n",
    "\n",
    "job.result()  # Waits for table load to complete.\n",
    "\n",
    "print('temporary tmp file generated')\n",
    "\n",
    "query =  \"\"\"\n",
    "SELECT pat_enc_csn_id_coded, user_deid, count(*)\n",
    "  FROM `noshad.cohort_AL_60` as AL\n",
    "  GROUP BY pat_enc_csn_id_coded, user_deid\n",
    "\n",
    "\"\"\"\n",
    "print('Query Completed')\n",
    "cursor.execute(query);\n",
    "\n",
    "\n",
    "# into a numpy array\n",
    "results = cursor.fetchall();\n",
    "Users = np.array(results)\n",
    "print(Users[0])\n",
    "\n",
    "\n",
    "# Now sort the patient enc ids with respect to tpa times\n",
    "query =  \"\"\"\n",
    "SELECT AL.pat_enc_csn_id_coded, min(DATETIME_SUB(AL.tpaAdminTime, INTERVAL TMP.JITTER DAY)) as tpa_time\n",
    "  FROM `noshad.cohort_AL_60` as AL,\n",
    "  `noshad.tmp` as TMP\n",
    "  WHERE AL.rit_uid = TMP.ANON_ID\n",
    "  GROUP BY AL.pat_enc_csn_id_coded\n",
    "  ORDER BY tpa_time\n",
    "\"\"\"\n",
    "print('Query Completed')\n",
    "cursor.execute(query);\n",
    "\n",
    "# into a numpy array\n",
    "results = cursor.fetchall();\n",
    "TPA_times_np = np.array(results)\n",
    "\n",
    "print(TPA_times_np[0])\n",
    "print('Into numpy')\n",
    "\n",
    "\n",
    "## delete the temporary time mapping\n",
    "query = \"DROP TABLE noshad.tmp\"\n",
    "cursor.execute(query);\n",
    "print('tmp deleted')\n",
    "\n",
    "\n",
    "# Team definition\n",
    "num_action_limit=3\n",
    "\n",
    "for id in  Pat_dic.keys(): #np.unique(Users[:,0]):\n",
    "    indx = np.where( (Users[:,0]==int(id)) &  (Users[:,2]>=num_action_limit) )[0] \n",
    "    Pat_dic[id]['team_members_id_60'] = Users[indx,1]\n",
    "    Pat_dic[id]['num_user_action'] = Users[indx,2]\n",
    "    \n",
    "print('team members added to the dictionary')"
   ]
  },
  {
   "cell_type": "code",
   "execution_count": 75,
   "metadata": {},
   "outputs": [
    {
     "name": "stdout",
     "output_type": "stream",
     "text": [
      "(280,)\n",
      "131011501539 :\n",
      "sum_edge_weight:  0.0\n",
      "user_prev_expr:  [0, 0, 0, 0, 0, 0, 0, 0, 0, 0, 0, 0, 0, 0, 0, 0, 0, 0, 0, 0, 0, 0, 0, 0, 0, 0, 0, 0, 0, 0, 0, 0, 0, 0, 0, 0, 0, 0, 0, 0, 0, 0, 0, 0, 0, 0, 0, 0, 0, 0, 0, 0, 0, 0, 0, 0, 0, 0, 0, 0, 0, 0, 0, 0, 0, 0, 0, 0, 0, 0, 0, 0, 0, 0, 0, 0, 0, 0, 0, 0, 0, 0, 0, 0, 0, 0, 0]\n",
      "user_exp_score_60:  0\n",
      "last_tpa_score:  1000.0\n",
      "131011574201 :\n",
      "sum_edge_weight:  0.0\n",
      "user_prev_expr:  [0, 1, 1, 0, 0, 1, 0, 1, 0, 0, 0, 0, 0, 0, 0, 0, 0, 0, 0, 0, 0, 0, 0, 0, 0, 0, 0, 0, 0, 0, 0, 0, 0, 0, 0, 0, 0, 0, 0, 1, 0, 0, 0, 0, 0, 1, 0, 1, 0, 0, 0, 1, 0, 0, 0, 0, 0, 0, 0, 0]\n",
      "user_exp_score_60:  8\n",
      "last_tpa_score:  6.388888888888889\n",
      "131012179111 :\n",
      "sum_edge_weight:  4.5\n",
      "user_prev_expr:  [0, 0, 0, 0, 1, 0, 1, 0, 0, 1, 0, 0, 0, 1, 0, 0, 1, 0, 1, 0, 0, 0, 0, 0, 0, 0, 1, 0, 0, 0, 1, 0, 0, 0, 1, 1, 0, 0, 0, 1, 1, 0, 0, 1, 0, 0, 0, 1, 2, 0, 0, 1, 0, 0, 0, 0, 0, 0, 0, 0, 0, 0, 2, 0, 0, 0, 1, 1, 0, 0, 1, 0, 1, 0, 1, 0, 0, 2, 1, 1, 0]\n",
      "user_exp_score_60:  28\n",
      "last_tpa_score:  60.56875\n",
      "131012404716 :\n",
      "sum_edge_weight:  29.0\n",
      "user_prev_expr:  [0, 0, 0, 0, 0, 0, 0, 1, 1, 0, 1, 1, 0, 0, 1, 1, 1, 0, 3, 0, 1, 0, 1, 0, 2, 3, 0, 1, 1, 0, 1, 0, 0, 1, 0, 0, 0, 0, 1, 0, 0, 0, 0, 0, 0, 1, 0, 1, 1, 0, 1, 1, 0, 2, 1, 0, 0, 1, 1, 1, 0, 0, 1, 0, 1, 0, 0, 1, 0, 0, 0, 0, 0, 1, 0, 0, 0, 1, 0, 2, 0, 0, 0, 0, 0, 2, 0, 1, 1, 1, 0, 1, 0, 0, 0, 0, 1, 0, 0, 1, 0, 2, 2, 0, 1, 1, 0]\n",
      "user_exp_score_60:  54\n",
      "last_tpa_score:  18.03263888888889\n",
      "131012428441 :\n",
      "sum_edge_weight:  13.5\n",
      "user_prev_expr:  [0, 1, 0, 0, 1, 1, 1, 2, 2, 0, 0, 1, 0, 0, 1, 1, 0, 1, 0, 0, 0, 0, 2, 1, 2, 1, 1, 1, 0, 0, 0, 0, 1, 2, 0, 0, 0, 0, 1, 1, 1, 2, 0, 1, 0, 1, 1, 1, 2, 0, 1, 1, 1, 0, 1, 1, 0, 0, 0, 0, 0, 0, 1]\n",
      "user_exp_score_60:  40\n",
      "last_tpa_score:  2.9187500000000006\n",
      "131012582561 :\n",
      "sum_edge_weight:  96.0\n",
      "user_prev_expr:  [3, 1, 0, 2, 0, 1, 2, 1, 1, 0, 2, 0, 2, 3, 2, 0, 0, 1, 0, 1, 1, 1, 2, 0, 1, 1, 0, 2, 2, 1, 1, 2, 2, 1, 2, 0, 0, 1, 0, 1, 0, 1, 0, 1, 1, 0, 0, 4, 1, 0, 0, 2, 2, 0, 1, 0, 0, 0, 2, 3, 2, 2, 3, 0, 2, 2, 1, 2, 1, 1, 1, 1]\n",
      "user_exp_score_60:  79\n",
      "last_tpa_score:  14.052777777777777\n",
      "131012620203 :\n",
      "sum_edge_weight:  165.5\n",
      "user_prev_expr:  [4, 0, 0, 1, 1, 0, 3, 2, 0, 0, 2, 0, 1, 2, 2, 2, 2, 1, 3, 2, 3, 2, 2, 1, 2, 1, 0, 3, 2, 0, 1, 0, 1, 0, 0, 1, 0, 1, 2, 3, 3, 0, 1, 0, 1, 4, 0, 0, 2, 2, 3, 0, 2, 2, 0, 2, 0, 1, 1, 0, 2, 1, 0, 3, 2, 0]\n",
      "user_exp_score_60:  85\n",
      "last_tpa_score:  2.889583333333333\n",
      "131012747130 :\n",
      "sum_edge_weight:  47.0\n",
      "user_prev_expr:  [0, 1, 1, 3, 1, 1, 0, 0, 0, 0, 2, 1, 0, 2, 0, 0, 1, 0, 3, 0, 3, 0, 3, 1, 1, 0, 2, 1, 3, 2, 0, 3, 0, 0, 0, 1, 0, 1, 2, 0, 1, 0, 1, 1, 0, 0, 1, 1, 1, 0, 2, 0, 1, 0, 3, 0, 2, 2, 1, 3, 0, 0, 0, 1, 0, 1, 0, 1, 2, 2, 0, 0, 0, 0, 1, 2, 1, 2]\n",
      "user_exp_score_60:  72\n",
      "last_tpa_score:  10.449305555555556\n",
      "131012861842 :\n",
      "sum_edge_weight:  186.5\n",
      "user_prev_expr:  [4, 1, 0, 0, 1, 2, 0, 2, 1, 2, 2, 2, 4, 0, 1, 4, 3, 4, 3, 2, 0, 0, 1, 3, 4, 3, 1, 1, 0, 0, 1, 3, 3, 0, 2, 2, 0, 0, 1, 4, 4, 1, 4, 2, 3, 1, 3, 3, 0, 0, 1, 0, 1, 0]\n",
      "user_exp_score_60:  90\n",
      "last_tpa_score:  10.540277777777778\n",
      "131012635841 :\n",
      "sum_edge_weight:  187.5\n",
      "user_prev_expr:  [0, 1, 0, 0, 3, 1, 0, 0, 2, 0, 5, 1, 2, 2, 1, 0, 2, 1, 3, 3, 1, 1, 3, 0, 3, 0, 3, 0, 4, 4, 4, 0, 4, 3, 1, 4, 5, 3, 3, 0, 1, 1, 0, 0, 0, 0, 2, 0, 4, 5, 0, 1, 3, 0, 1, 0, 0, 0]\n",
      "user_exp_score_60:  91\n",
      "last_tpa_score:  1.9861111111111114\n"
     ]
    }
   ],
   "source": [
    "import datetime\n",
    "\n",
    "Edge_Weight={}\n",
    "Vertex_Weight = {}\n",
    "Last_tpa = {} # the keys are the users, and the values are time to last tpa\n",
    "\n",
    "\n",
    "# initialize dictionaries\n",
    "for id in Pat_dic.keys(): #Pat_dic.keys(): #str(TPA_times_np[0,:]):\n",
    "    Pat_dic[id]['sum_edge_weight'] = 0\n",
    "    Pat_dic[id]['user_prev_expr'] = []\n",
    "    Pat_dic[id]['user_exp_score_60'] = 0\n",
    "    Pat_dic[id]['last_tpa_list'] = []\n",
    "    Pat_dic[id]['last_tpa_score'] = 100\n",
    "\n",
    "\n",
    "#print(len(Pat_dic.keys()))\n",
    "print(TPA_times_np[:,0].shape)\n",
    "\n",
    "for id_int in TPA_times_np[:,0]: #Pat_dic.keys(): #str(TPA_times_np[0,:]):\n",
    "    id = str(id_int)\n",
    "    #print(id)\n",
    "    if id not in Pat_dic.keys():\n",
    "        #print(id ,' not in Pat_dic')\n",
    "        continue\n",
    "    \n",
    "    temp_user_exp_list=[]\n",
    "    temp_sum_edge = 0\n",
    "    temp_time2last_tpa_list = []\n",
    "    \n",
    "    row_num = np.where(TPA_times_np[:,0]==id_int)[0] # find the row index\n",
    "    \n",
    "    for u1 in Pat_dic[id]['team_members_id_60']:\n",
    "        \n",
    "        #Count the vertex weights\n",
    "\n",
    "        if u1 not in Vertex_Weight.keys():\n",
    "            Vertex_Weight[u1] = 0\n",
    "            delta_t = 1000 # default delta in terms of days\n",
    "        else:\n",
    "            Vertex_Weight[u1] += 1\n",
    "            #print(TPA_times_np[:,1], Last_tpa[u1]  )\n",
    "            #print(np.where(TPA_times_np[:,0]==id_int)[0])\n",
    "            #print(TPA_times_np[np.where(TPA_times_np[:,0]==id_int)[0],1])\n",
    "            temp_delta_t = TPA_times_np[row_num,1] - Last_tpa[u1] \n",
    "            #print(temp_delta_t)\n",
    "            delta_t = temp_delta_t[0].total_seconds()/(3600*24) # total days\n",
    "        \n",
    "        \n",
    "        temp_user_exp_list.append(Vertex_Weight[u1])\n",
    "        \n",
    "        # vector of time2_last_tpa\n",
    "        Last_tpa[u1] = TPA_times_np[row_num,1] # update the recent tpa time\n",
    "        temp_time2last_tpa_list.append(delta_t) \n",
    "        \n",
    "        \n",
    "        #Count the edge weights\n",
    "        for u2 in Pat_dic[id]['team_members_id_60']:\n",
    "            if (u1,u2) not in Edge_Weight.keys():\n",
    "                Edge_Weight[(u1,u2)] = 0\n",
    "            else:\n",
    "                temp_sum_edge += Edge_Weight[(u1,u2)]\n",
    "                Edge_Weight[(u1,u2)] += 1\n",
    "                \n",
    "    Pat_dic[id]['sum_edge_weight'] = temp_sum_edge / 2.0\n",
    "    if len(Pat_dic[id]['team_members_id_60']) == 0:\n",
    "        #print(temp_sum_edge)\n",
    "        Pat_dic[id]['avg_edge_weight'] = temp_sum_edge/2.0\n",
    "    else:\n",
    "        Pat_dic[id]['avg_edge_weight'] = temp_sum_edge / len(Pat_dic[id]['team_members_id_60'])/2.0\n",
    "    \n",
    "    # vertex weight (individual experience)\n",
    "    Pat_dic[id]['user_prev_expr'] = temp_user_exp_list\n",
    "    #Pat_dic[id]['user_prev_expr_60'] = np.array(temp_list)\n",
    "    #Pat_dic[id]['team_members_role_60'] = temp_role_list\n",
    "    Pat_dic[id]['user_exp_score_60'] = np.sum(np.array(temp_user_exp_list))\n",
    "    \n",
    "\n",
    "    \n",
    "    Pat_dic[id]['last_tpa_list'] = temp_time2last_tpa_list\n",
    "    Pat_dic[id]['last_tpa_score'] = np.mean(np.sort(np.array(temp_time2last_tpa_list))[:3]) # the avg of the least 3 times\n",
    "\n",
    "    \n",
    "    #if id == '131029787108':\n",
    "    #    print('####131029787108####')\n",
    "    #    print(Pat_dic[id]['last_tpa_score'])\n",
    "        \n",
    "# test \n",
    "for id_int in TPA_times_np[:10,0]: #Pat_dic.keys(): #str(TPA_times_np[0,:]):\n",
    "    id = str(id_int)\n",
    "    #print(id)\n",
    "    if id not in Pat_dic.keys():\n",
    "        #print(id ,' not in Pat_dic')\n",
    "        continue\n",
    "        \n",
    "    print(id, ':')\n",
    "    id = str(id_int)\n",
    "    #print(Pat_dic[id]['team_members_id_60'])\n",
    "    print('sum_edge_weight: ', Pat_dic[id]['sum_edge_weight'])\n",
    "    print('user_prev_expr: ', Pat_dic[id]['user_prev_expr'])\n",
    "    print('user_exp_score_60: ',Pat_dic[id]['user_exp_score_60'])\n",
    "    print('last_tpa_score: ',Pat_dic[id]['last_tpa_score'])\n",
    "\n",
    "                    \n",
    "\n",
    "    \n",
    "\n"
   ]
  },
  {
   "cell_type": "code",
   "execution_count": 76,
   "metadata": {},
   "outputs": [],
   "source": [
    "#save the results\n",
    "X = np.array([Pat_dic[id]['sum_edge_weight'] for id in Pat_dic.keys()])\n",
    "np.save('features/sum_user_joint_exp',X)\n",
    "\n",
    "X = np.array([Pat_dic[id]['avg_edge_weight'] for id in Pat_dic.keys()])\n",
    "np.save('features/avg_user_joint_exp',X)\n",
    "\n",
    "X = np.array([Pat_dic[id]['user_prev_expr'] for id in Pat_dic.keys()])\n",
    "np.save('features/user_prev_expr',X)\n",
    "\n",
    "X = np.array([len(Pat_dic[id]['team_members_id_60']) for id in Pat_dic.keys()])\n",
    "np.save('features/team_size',X)\n",
    "###\n",
    "\n",
    "#for id in Pat_dic.keys():\n",
    "#    if 'last_tpa_score' not in Pat_dic[id]:\n",
    "#        print('last_tpa_score',id)\n",
    "#    if 'user_exp_score_60' not in Pat_dic[id]:\n",
    "#        print('user_exp_score_60', id)\n",
    "    #print(Pat_dic[id]['last_tpa_score'])\n",
    "    \n",
    "###\n",
    "\n",
    "X = np.array([Pat_dic[id]['last_tpa_score'] for id in Pat_dic.keys()])\n",
    "np.save('features/last_tpa_score',X)\n",
    "\n",
    "Time2tpa = np.array([Pat_dic[id]['t2tpa'] for id in Pat_dic.keys()])\n",
    "np.save('features/t2tpa',Time2tpa)\n",
    "\n",
    "\n"
   ]
  },
  {
   "cell_type": "code",
   "execution_count": null,
   "metadata": {},
   "outputs": [],
   "source": []
  },
  {
   "cell_type": "code",
   "execution_count": 37,
   "metadata": {},
   "outputs": [
    {
     "name": "stdout",
     "output_type": "stream",
     "text": [
      "(144,)\n",
      "(144, 1)\n",
      "(144, 1)\n"
     ]
    },
    {
     "data": {
      "image/png": "[encoded data removed]",
      "text/plain": [
       "<Figure size 432x288 with 1 Axes>"
      ]
     },
     "metadata": {
      "needs_background": "light"
     },
     "output_type": "display_data"
    }
   ],
   "source": [
    "# plot feature user_exp_score\n",
    "from sklearn.linear_model import LinearRegression as LR\n",
    "\n",
    "from matplotlib import rcParams\n",
    "rcParams['font.family'] = 'serif'\n",
    "rcParams.update({'font.size': 10})\n",
    "plt.rcParams['axes.labelweight'] = 'bold'\n",
    "import time\n",
    "\n",
    "\n",
    "\n",
    "X = np.load('features/user_exp_score.npy')\n",
    "Time2tpa = np.load('features/t2tpa.npy')\n",
    "\n",
    "# remove outliers\n",
    "D = np.where(X<500)[0]\n",
    "print(D.shape)\n",
    "X = X[D]\n",
    "Time2tpa = Time2tpa[D]\n",
    "\n",
    "plt.scatter(X,Time2tpa,color='r')\n",
    "\n",
    "# Linear regression plot\n",
    "X = np.reshape(X,(-1,1))\n",
    "Time2tpa = np.reshape(Time2tpa,(-1,1))\n",
    "\n",
    "print(X.shape)\n",
    "print(Time2tpa.shape)\n",
    "\n",
    "Time2tpa_regr = LR().fit(X, Time2tpa).predict(X)\n",
    "plt.plot(X,Time2tpa_regr, color='blue', linewidth=3)\n",
    "\n",
    "plt.xlabel('Individual Experience Score')\n",
    "plt.ylabel('Time-to-TPA (min)')\n",
    "\n",
    "timestr = time.strftime(\"%m_%d_%Y_%H%M%S\")\n",
    "plt.tight_layout()\n",
    "plt.savefig('figures/'+timestr +'_user_score' +'.png', dpi=300)\n",
    "\n",
    "plt.show()"
   ]
  },
  {
   "cell_type": "code",
   "execution_count": 38,
   "metadata": {},
   "outputs": [
    {
     "name": "stdout",
     "output_type": "stream",
     "text": [
      "(124,)\n",
      "(124, 1)\n",
      "(124, 1)\n"
     ]
    },
    {
     "data": {
      "image/png": "[encoded data removed]",
      "text/plain": [
       "<Figure size 432x288 with 1 Axes>"
      ]
     },
     "metadata": {
      "needs_background": "light"
     },
     "output_type": "display_data"
    }
   ],
   "source": [
    "# Repeat with ignoring low values:\n",
    "# {p}lot feature user_exp_score\n",
    "from sklearn.linear_model import LinearRegression as LR\n",
    "rcParams['font.family'] = 'serif'\n",
    "rcParams.update({'font.size': 10})\n",
    "plt.rcParams['axes.labelweight'] = 'bold'\n",
    "import time\n",
    "\n",
    "\n",
    "\n",
    "X = np.load('features/user_exp_score.npy')\n",
    "Time2tpa = np.load('features/t2tpa.npy')\n",
    "\n",
    "# remove outliers\n",
    "D = np.where((X<500) & (40<X) )[0]\n",
    "print(D.shape)\n",
    "X = X[D]\n",
    "Time2tpa = Time2tpa[D]\n",
    "\n",
    "plt.scatter(X,Time2tpa,color='r')\n",
    "\n",
    "# Linear regression plot\n",
    "X = np.reshape(X,(-1,1))\n",
    "Time2tpa = np.reshape(Time2tpa,(-1,1))\n",
    "\n",
    "print(X.shape)\n",
    "print(Time2tpa.shape)\n",
    "\n",
    "Time2tpa_regr = LR().fit(X, Time2tpa).predict(X)\n",
    "plt.plot(X,Time2tpa_regr, color='blue', linewidth=3)\n",
    "\n",
    "plt.xlabel('Individual Experience Score')\n",
    "plt.ylabel('Time-to-TPA (min)')\n",
    "\n",
    "\n",
    "timestr = time.strftime(\"%m_%d_%Y_%H%M%S\")\n",
    "plt.tight_layout()\n",
    "plt.savefig('figures/'+timestr +'_user_score' +'.png', dpi=300)\n",
    "\n",
    "plt.show()"
   ]
  },
  {
   "cell_type": "code",
   "execution_count": 39,
   "metadata": {},
   "outputs": [
    {
     "name": "stdout",
     "output_type": "stream",
     "text": [
      "(124,)\n",
      "(124, 1)\n",
      "(124, 1)\n"
     ]
    },
    {
     "data": {
      "image/png": "[encoded data removed]",
      "text/plain": [
       "<Figure size 432x288 with 1 Axes>"
      ]
     },
     "metadata": {
      "needs_background": "light"
     },
     "output_type": "display_data"
    }
   ],
   "source": [
    "# plot feature user_joint_exp_score\n",
    "from sklearn.linear_model import LinearRegression as LR\n",
    "rcParams['font.family'] = 'serif'\n",
    "rcParams.update({'font.size': 10})\n",
    "plt.rcParams['axes.labelweight'] = 'bold'\n",
    "import time\n",
    "\n",
    "\n",
    "\n",
    "X = np.load('features/sum_user_joint_exp.npy')\n",
    "Time2tpa = np.load('features/t2tpa.npy')\n",
    "\n",
    "# remove outliers\n",
    "D = np.where((X<500) & (40<X) )[0]\n",
    "print(D.shape)\n",
    "X = X[D]\n",
    "Time2tpa = Time2tpa[D]\n",
    "\n",
    "plt.scatter(X,Time2tpa,color='r')\n",
    "\n",
    "# Linear regression plot\n",
    "X = np.reshape(X,(-1,1))\n",
    "Time2tpa = np.reshape(Time2tpa,(-1,1))\n",
    "\n",
    "print(X.shape)\n",
    "print(Time2tpa.shape)\n",
    "\n",
    "Time2tpa_regr = LR().fit(X, Time2tpa).predict(X)\n",
    "plt.plot(X,Time2tpa_regr, color='blue', linewidth=3)\n",
    "\n",
    "plt.xlabel('Joint Experience Score')\n",
    "plt.ylabel('Time-to-TPA (min)')\n",
    "\n",
    "timestr = time.strftime(\"%m_%d_%Y_%H%M%S\")\n",
    "plt.tight_layout()\n",
    "plt.savefig('figures/'+timestr +'_user_joint_score' +'.png', dpi=300)\n",
    "\n",
    "plt.show()"
   ]
  },
  {
   "cell_type": "code",
   "execution_count": 42,
   "metadata": {},
   "outputs": [
    {
     "name": "stdout",
     "output_type": "stream",
     "text": [
      "(246, 1)\n",
      "(246, 1)\n"
     ]
    },
    {
     "data": {
      "image/png": "[encoded data removed]",
      "text/plain": [
       "<Figure size 432x288 with 1 Axes>"
      ]
     },
     "metadata": {
      "needs_background": "light"
     },
     "output_type": "display_data"
    }
   ],
   "source": [
    "# plot feature user_joint_exp_score\n",
    "from sklearn.linear_model import LinearRegression as LR\n",
    "rcParams['font.family'] = 'serif'\n",
    "rcParams.update({'font.size': 10})\n",
    "plt.rcParams['axes.labelweight'] = 'bold'\n",
    "import time\n",
    "\n",
    "\n",
    "X = np.load('features/avg_user_joint_exp.npy')\n",
    "Time2tpa = np.load('features/t2tpa.npy')\n",
    "\n",
    "# remove outliers\n",
    "#D = np.where((X<500) & (40<X) )[0]\n",
    "#print(D.shape)\n",
    "#X = X[D]\n",
    "#Time2tpa = Time2tpa[D]\n",
    "\n",
    "plt.scatter(X,Time2tpa,color='r')\n",
    "\n",
    "# Linear regression plot\n",
    "X = np.reshape(X,(-1,1))\n",
    "Time2tpa = np.reshape(Time2tpa,(-1,1))\n",
    "\n",
    "print(X.shape)\n",
    "print(Time2tpa.shape)\n",
    "\n",
    "Time2tpa_regr = LR().fit(X, Time2tpa).predict(X)\n",
    "plt.plot(X,Time2tpa_regr, color='blue', linewidth=3)\n",
    "\n",
    "plt.xlabel('Joint Experience Score')\n",
    "plt.ylabel('Time-to-TPA (min)')\n",
    "\n",
    "timestr = time.strftime(\"%m_%d_%Y_%H%M%S\")\n",
    "plt.tight_layout()\n",
    "plt.savefig('figures/'+timestr +'_user_joint_score' +'.png', dpi=300)\n",
    "\n",
    "plt.show()"
   ]
  },
  {
   "cell_type": "code",
   "execution_count": 78,
   "metadata": {},
   "outputs": [
    {
     "name": "stderr",
     "output_type": "stream",
     "text": [
      "/Library/Frameworks/Python.framework/Versions/3.6/lib/python3.6/site-packages/ipykernel_launcher.py:17: RuntimeWarning: invalid value encountered in less\n"
     ]
    },
    {
     "name": "stdout",
     "output_type": "stream",
     "text": [
      "(232,)\n",
      "(232, 1)\n",
      "(232, 1)\n"
     ]
    },
    {
     "data": {
      "image/png": "[encoded data removed]",
      "text/plain": [
       "<Figure size 432x288 with 1 Axes>"
      ]
     },
     "metadata": {
      "needs_background": "light"
     },
     "output_type": "display_data"
    }
   ],
   "source": [
    "## Plot Time to last TPA\n",
    "\n",
    "from sklearn.linear_model import LinearRegression as LR\n",
    "\n",
    "from matplotlib import rcParams\n",
    "rcParams['font.family'] = 'serif'\n",
    "rcParams.update({'font.size': 10})\n",
    "plt.rcParams['axes.labelweight'] = 'bold'\n",
    "import time\n",
    "\n",
    "\n",
    "\n",
    "X = np.load('features/last_tpa_score.npy')\n",
    "Time2tpa = np.load('features/t2tpa.npy')\n",
    "\n",
    "# remove outliers\n",
    "D = np.where(X<100)[0]\n",
    "print(D.shape)\n",
    "X = X[D]\n",
    "Time2tpa = Time2tpa[D]\n",
    "\n",
    "plt.scatter(X,Time2tpa,color='r')\n",
    "\n",
    "# Linear regression plot\n",
    "X = np.reshape(X,(-1,1))\n",
    "Time2tpa = np.reshape(Time2tpa,(-1,1))\n",
    "\n",
    "print(X.shape)\n",
    "print(Time2tpa.shape)\n",
    "\n",
    "Time2tpa_regr = LR().fit(X, Time2tpa).predict(X)\n",
    "plt.plot(X,Time2tpa_regr, color='blue', linewidth=3)\n",
    "\n",
    "plt.xlabel('Last_TPA_score')\n",
    "plt.ylabel('Time-to-TPA (min)')\n",
    "\n",
    "timestr = time.strftime(\"%m_%d_%Y_%H%M%S\")\n",
    "plt.tight_layout()\n",
    "plt.savefig('figures/'+timestr +'_last_tpa_score' +'.png', dpi=300)\n",
    "\n",
    "plt.show()\n",
    "    \n"
   ]
  },
  {
   "cell_type": "code",
   "execution_count": 80,
   "metadata": {},
   "outputs": [
    {
     "name": "stdout",
     "output_type": "stream",
     "text": [
      "(232,)\n",
      "(232, 1)\n",
      "(232, 1)\n"
     ]
    },
    {
     "data": {
      "image/png": "[encoded data removed]",
      "text/plain": [
       "<Figure size 432x288 with 1 Axes>"
      ]
     },
     "metadata": {
      "needs_background": "light"
     },
     "output_type": "display_data"
    }
   ],
   "source": [
    "## Plot Time to last TPA\n",
    "\n",
    "from sklearn.linear_model import LinearRegression as LR\n",
    "\n",
    "from matplotlib import rcParams\n",
    "rcParams['font.family'] = 'serif'\n",
    "rcParams.update({'font.size': 10})\n",
    "plt.rcParams['axes.labelweight'] = 'bold'\n",
    "import time\n",
    "\n",
    "\n",
    "\n",
    "X = np.load('features/team_size.npy')\n",
    "Time2tpa = np.load('features/t2tpa.npy')\n",
    "\n",
    "# remove outliers\n",
    "D = np.where(X<100)[0]\n",
    "print(D.shape)\n",
    "X = X[D]\n",
    "Time2tpa = Time2tpa[D]\n",
    "\n",
    "plt.scatter(X,Time2tpa,color='r')\n",
    "\n",
    "# Linear regression plot\n",
    "X = np.reshape(X,(-1,1))\n",
    "Time2tpa = np.reshape(Time2tpa,(-1,1))\n",
    "\n",
    "print(X.shape)\n",
    "print(Time2tpa.shape)\n",
    "\n",
    "Time2tpa_regr = LR().fit(X, Time2tpa).predict(X)\n",
    "plt.plot(X,Time2tpa_regr, color='blue', linewidth=3)\n",
    "\n",
    "plt.xlabel('Team_size')\n",
    "plt.ylabel('Time-to-TPA (min)')\n",
    "\n",
    "timestr = time.strftime(\"%m_%d_%Y_%H%M%S\")\n",
    "plt.tight_layout()\n",
    "plt.savefig('figures/'+timestr +'_team_size' +'.png', dpi=300)\n",
    "\n",
    "plt.show()\n",
    "    \n",
    "\n"
   ]
  },
  {
   "cell_type": "code",
   "execution_count": 81,
   "metadata": {},
   "outputs": [
    {
     "name": "stdout",
     "output_type": "stream",
     "text": [
      "[[2]\n",
      " [3]\n",
      " [1]\n",
      " [2]\n",
      " [2]\n",
      " [3]\n",
      " [3]\n",
      " [0]\n",
      " [1]\n",
      " [1]\n",
      " [2]\n",
      " [3]\n",
      " [3]\n",
      " [0]\n",
      " [1]\n",
      " [1]\n",
      " [1]]\n"
     ]
    }
   ],
   "source": [
    "print(X[np.where(X<4)[0]])"
   ]
  },
  {
   "cell_type": "code",
   "execution_count": null,
   "metadata": {},
   "outputs": [],
   "source": []
  }
 ],
 "metadata": {
  "kernelspec": {
   "display_name": "Python 3",
   "language": "python",
   "name": "python3"
  },
  "language_info": {
   "codemirror_mode": {
    "name": "ipython",
    "version": 3
   },
   "file_extension": ".py",
   "mimetype": "text/x-python",
   "name": "python",
   "nbconvert_exporter": "python",
   "pygments_lexer": "ipython3",
   "version": "3.6.6"
  }
 },
 "nbformat": 4,
 "nbformat_minor": 2
}
