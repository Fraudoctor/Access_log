{
 "cells": [
  {
   "cell_type": "code",
   "execution_count": 193,
   "metadata": {},
   "outputs": [],
   "source": [
    "# %matplotlib inline\n",
    "#%matplotlib notebook\n",
    "import matplotlib.pyplot as plt\n",
    "import numpy as np\n",
    "import matplotlib\n",
    "#matplotlib.use('TkAgg')\n",
    "import matplotlib.pyplot as plt"
   ]
  },
  {
   "cell_type": "code",
   "execution_count": 194,
   "metadata": {},
   "outputs": [
    {
     "name": "stdout",
     "output_type": "stream",
     "text": [
      "(70,)\n",
      "['Registered Nurse', 'Emergency Resident', 'Primary Team', 'ED Unit Secretary', 'Primary Intern', 'Consulting Service', 'Primary Resident', 'Co-Attending', 'Consulting Attending', 'Chief Resident', 'Consulting Resident', 'Additional Communicating Provider', 'ED Tech', 'Case Manager', 'Nurse Practitioner', 'Nursing Assistant', 'Cross Cover Attending', 'Respiratory Care Practitioner', 'Consulting Intern', 'Primary Med Student', 'Care Coordinator', 'Social Worker', 'Primary Care Physician', 'Physical Therapist', 'Consulting Fellow', 'Primary Fellow', 'Primary Sub-Intern', 'Occupational Therapist', 'Student Nurse', 'Physician Assistant', 'Trauma Attending', 'Licensed Vocational Nurse', 'Clinical Pharmacist', 'Clinical Dietitian', 'ED Registrar', 'Speech Therapist', 'Nurse Coordinator', 'Trauma Resident ', 'Consulting Med Student', 'Primary Physician Assistant', 'Medical Assistant', 'Physical Therapist Assistant', 'Resident', 'Wound/Ostomy/Continence RN', 'Cardiologist', 'Cross Cover Fellow', 'Cross Cover Resident', 'Pulmonologist', 'Nephrologist', 'Triage Nurse', 'Internist', 'Primary Advanced Practice Provider', 'Spiritual Care', 'Post-Transplant Nurse', 'Medical Oncologist', 'stop0', 'Heart Failure Cardiologist', 'Psychologist', 'Hematologist', 'Survivorship Provider', 'Neurologist', 'Surgeon', 'Medical Student', 'Clinical Nurse Specialist', 'Transplant Pharmacist', 'Transplant Social Worker', 'Infectious Disease', 'Anesthesiologist', 'Fellow', '']\n",
      "[149166  62122  44917  17472  16151  16127  13044  13036  10029   6463\n",
      "   6448   4237   3908   3792   3724   2978   2952   2785   2743   2518\n",
      "   2255   2118   2076   1875   1702   1679   1651   1459   1326   1160\n",
      "   1145   1044   1018    786    678    613    520    509    336    299\n",
      "    283    253    171    138    135    122    114    100     91     91\n",
      "     91     76     72     57     37     36     32     30     25     20\n",
      "     20      8      7      7      4      4      4      2      1      0]\n",
      "410892\n"
     ]
    }
   ],
   "source": [
    "# load text tole_stat.csv; this file contains different user types and total counts\n",
    "import csv\n",
    "with open('role_stat.csv', 'r') as f:\n",
    "    A = csv.reader(f)\n",
    "    temp = list(A)\n",
    "\n",
    "X = temp[1:]\n",
    "#print(X)\n",
    "#X = np.genfromtxt('role_stat.csv', delimiter=',')\n",
    "#print(X.shape)\n",
    "\n",
    "role_names = [X[s][0] for s in range(len(X))]\n",
    "counts = np.array([int(X[s][1]) for s in range(len(X))])\n",
    "print(counts.shape)\n",
    "n = counts.shape[0] \n",
    "\n",
    "print(role_names)\n",
    "print(counts)\n",
    "print(np.sum(counts))"
   ]
  },
  {
   "cell_type": "code",
   "execution_count": 195,
   "metadata": {},
   "outputs": [
    {
     "data": {
      "image/png": "[encoded data removed]",
      "text/plain": [
       "<Figure size 432x288 with 1 Axes>"
      ]
     },
     "metadata": {
      "needs_background": "light"
     },
     "output_type": "display_data"
    }
   ],
   "source": [
    "# plot\n",
    "from matplotlib import rcParams\n",
    "rcParams['font.family'] = 'serif'\n",
    "rcParams.update({'font.size': 9})\n",
    "plt.rcParams['axes.labelweight'] = 'bold'\n",
    "import time\n",
    "\n",
    "cut_num = 10\n",
    "counts = counts[:cut_num]\n",
    "counts = counts/290\n",
    "\n",
    "fig, ax = plt.subplots()\n",
    "y_pos = np.arange(cut_num)\n",
    "    \n",
    "# control colors\n",
    "#colors = ['green']*(i+1)\n",
    "#[colors.append('gray') for j in range(dim-i-1)]\n",
    "#print(colors)\n",
    "    \n",
    "ax.barh(y_pos, counts, color = 'orange')\n",
    "\n",
    "ax.set_yticks(y_pos)\n",
    "    \n",
    "# control y labels\n",
    "#feature_list_ordered = [feature_list[s] for s in features[i,:].astype(int)]\n",
    "ax.set_yticklabels(role_names, fontsize=12)\n",
    "    \n",
    "ax.invert_yaxis()  # labels read top-to-bottom\n",
    "ax.set_xlabel('Counts')\n",
    "#ax.set_title('How fast do you want to go today?')\n",
    "timestr = time.strftime(\"%m_%d_%Y_%H%M%S\")\n",
    "    \n",
    "plt.tight_layout()\n",
    "    \n",
    "plt.savefig(timestr +'_counts' +'.png', dpi=300)\n",
    "    \n",
    "plt.show()"
   ]
  },
  {
   "cell_type": "code",
   "execution_count": 196,
   "metadata": {},
   "outputs": [
    {
     "name": "stdout",
     "output_type": "stream",
     "text": [
      "['accessTimeDiff', 'jc_uid', 'pat_enc_csn_id_coded', 'event_type', 'pat_class', 'emergencyAdmitTime', 'ctHeadOrderTime', 'tpaDescription', 'tpaOrderTime', 'tpaAdminTime', 'inptClass', 'inpatientAdmitTime', 'rit_uid', 'process_id', 'metric_id', 'metric_name', 'user_deid', 'workstation_id', 'csn', 'access_action_c', 'access_action_name', 'deployment_id', 'audit_session_id', 'access_time_jittered_utc', 'access_time_jittered', 'user_role']\n"
     ]
    }
   ],
   "source": [
    "# load text tole_stat.csv; this file contains different user types and total counts\n",
    "import csv\n",
    "with open('cohort_access_log.csv', 'r') as f:\n",
    "    A_temp = csv.reader(f)\n",
    "    temp = list(A_temp)\n",
    "\n",
    "print(temp[0]) # The column names\n",
    "\n",
    "#print(X)\n",
    "#X = np.genfromtxt('role_stat.csv', delimiter=',')\n",
    "#print(X.shape)\n",
    "\n",
    "#role_names= [X[s][0] for s in range(len(X))]\n",
    "#counts = np.array([int(X[s][1]) for s in range(len(X))])\n",
    "#print(counts.shape)\n",
    "#n = counts.shape[0] \n",
    "\n",
    "#print(role_names)\n",
    "#print(counts)\n",
    "\n",
    "# ['Registered Nurse', 'Emergency Resident', 'Primary Team', 'ED Unit Secretary', 'Primary Intern', 'Consulting Service', 'Primary Resident', 'Co-Attending', 'Consulting Attending', 'Chief Resident', 'Consulting Resident', 'Additional Communicating Provider', 'ED Tech', 'Case Manager', 'Nurse Practitioner', 'Nursing Assistant', 'Cross Cover Attending', 'Respiratory Care Practitioner', 'Consulting Intern', 'Primary Med Student', 'Care Coordinator', 'Social Worker', 'Primary Care Physician', 'Physical Therapist', 'Consulting Fellow', 'Primary Fellow', 'Primary Sub-Intern', 'Occupational Therapist', 'Student Nurse', 'Physician Assistant', 'Trauma Attending', 'Licensed Vocational Nurse', 'Clinical Pharmacist', 'Clinical Dietitian', 'ED Registrar', 'Speech Therapist', 'Nurse Coordinator', 'Trauma Resident ', 'Consulting Med Student', 'Primary Physician Assistant', 'Medical Assistant', 'Physical Therapist Assistant', 'Resident', 'Wound/Ostomy/Continence RN', 'Cardiologist', 'Cross Cover Fellow', 'Cross Cover Resident', 'Pulmonologist', 'Nephrologist', 'Triage Nurse', 'Internist', 'Primary Advanced Practice Provider', 'Spiritual Care', 'Post-Transplant Nurse', 'Medical Oncologist', 'stop0', 'Heart Failure Cardiologist', 'Psychologist', 'Hematologist', 'Survivorship Provider', 'Neurologist', 'Surgeon', 'Medical Student', 'Clinical Nurse Specialist', 'Transplant Pharmacist', 'Transplant Social Worker', 'Infectious Disease', 'Anesthesiologist', 'Fellow', '']\n"
   ]
  },
  {
   "cell_type": "code",
   "execution_count": 197,
   "metadata": {},
   "outputs": [
    {
     "name": "stdout",
     "output_type": "stream",
     "text": [
      "(381051, 26)\n",
      "[     3      4      4      6      7      8     18     20     21     25\n",
      "     72     74     97    114    122    135    136    162    169    171\n",
      "    251    362    366    385    441    468    606    905   1018   1123\n",
      "   1170   1269   1724   1927   2147   2153   2167   2486   2993   3039\n",
      "   7081  10128  15963  41845 132908 144758]\n",
      "381051\n",
      "['Chief Resident' 'Transplant Pharmacist' 'Primary Physician Assistant'\n",
      " 'Primary Sub-Intern' 'Clinical Nurse Specialist'\n",
      " 'Additional Communicating Provider' 'Primary Care Physician'\n",
      " 'Nurse Coordinator' 'Resident' 'Consulting Intern' 'Spiritual Care'\n",
      " 'Primary Advanced Practice Provider' 'Speech Therapist' 'Student Nurse'\n",
      " 'Physical Therapist Assistant' 'Wound/Ostomy/Continence RN'\n",
      " 'Primary Fellow' 'Primary Med Student' 'Consulting Med Student'\n",
      " 'Clinical Dietitian' 'Consulting Fellow' 'Care Coordinator'\n",
      " 'Trauma Attending' 'Trauma Resident ' 'Occupational Therapist'\n",
      " 'Physician Assistant' 'Cross Cover Attending' 'Consulting Resident'\n",
      " 'Clinical Pharmacist' 'Physical Therapist' 'Primary Intern'\n",
      " 'Social Worker' 'Nurse Practitioner' 'Consulting Attending'\n",
      " 'Case Manager' 'Nursing Assistant' 'Primary Resident'\n",
      " 'Respiratory Care Practitioner' 'Consulting Service' 'ED Tech'\n",
      " 'Co-Attending' 'Primary Team' 'ED Unit Secretary' 'Emergency Resident' ''\n",
      " 'Registered Nurse']\n"
     ]
    }
   ],
   "source": [
    "# get the counts of each role\n",
    "\n",
    "AL = np.array(temp[1:])\n",
    "print(AL.shape)\n",
    "\n",
    "#print(AL[10,-1].type)\n",
    "\n",
    "#print(AL[:10,-1])\n",
    "\n",
    "#R = \n",
    "names_unsorted, counts_unsorted =np.unique(AL[:,-1],return_counts=True)\n",
    "\n",
    "I_sort = np.argsort(counts_unsorted)\n",
    "counts_sorted = counts_unsorted[I_sort]\n",
    "names_sorted = names_unsorted[I_sort]\n",
    "\n",
    "print(counts_sorted)\n",
    "print(np.sum(counts_sorted))\n",
    "print(names_sorted)\n",
    "\n",
    "#print(np.where(AL[:,-1]=='Registered Nurse')[0].shape)\n",
    "\n",
    "#Names= np.argsort()\n",
    "#S = AL[0,  ]\n",
    "#user_dict[]"
   ]
  },
  {
   "cell_type": "code",
   "execution_count": 198,
   "metadata": {},
   "outputs": [
    {
     "name": "stdout",
     "output_type": "stream",
     "text": [
      "[-198 -203 -199 ...  -80  -79  -80]\n"
     ]
    }
   ],
   "source": [
    "AL_dic = {}\n",
    "\n",
    "for x in names_sorted:\n",
    "    #print(np.where(AL[:,-1]==x)[0])\n",
    "    AL_dic[x] = AL[np.where(AL[:,-1]==x)[0],0].astype(int) # pick the times and put it into the dictionary\n",
    "\n",
    "print(AL_dic['ED Tech'])\n"
   ]
  },
  {
   "cell_type": "code",
   "execution_count": 199,
   "metadata": {},
   "outputs": [
    {
     "data": {
      "image/png": "[encoded data removed]",
      "text/plain": [
       "<Figure size 432x288 with 1 Axes>"
      ]
     },
     "metadata": {
      "needs_background": "light"
     },
     "output_type": "display_data"
    }
   ],
   "source": [
    "\n",
    "plt.hist(AL_dic['Registered Nurse'], density = True, bins=20, facecolor='blue', histtype = 'step', label = 'Nurse' )\n",
    "plt.hist(AL_dic['ED Tech'], bins=20, density = True,  facecolor='red', histtype = 'step', label = 'ED Tech')\n",
    "plt.hist(AL_dic['Emergency Resident'], bins=20, density = True,  facecolor='orange', histtype = 'step', label ='Emergency Resident')\n",
    "plt.xlabel('minutes before TPA admin')\n",
    "plt.ylabel('probability density')\n",
    "plt.legend(loc='upper left')\n",
    "plt.show()"
   ]
  },
  {
   "cell_type": "code",
   "execution_count": 200,
   "metadata": {},
   "outputs": [
    {
     "name": "stdout",
     "output_type": "stream",
     "text": [
      "['2015-02-22 20:50:00' '2015-02-22 20:50:00' '2015-02-22 20:50:00'\n",
      " '2015-02-22 20:50:00' '2015-02-22 20:50:00' '2015-02-22 20:50:00'\n",
      " '2015-02-22 20:50:00' '2015-02-22 20:50:00' '2015-02-22 20:50:00'\n",
      " '2015-02-22 20:50:00']\n",
      "['2015-02-22 21:25:00' '2015-02-22 21:25:00' '2015-02-22 21:25:00'\n",
      " '2015-02-22 21:25:00' '2015-02-22 21:25:00' '2015-02-22 21:25:00'\n",
      " '2015-02-22 21:25:00' '2015-02-22 21:25:00' '2015-02-22 21:25:00'\n",
      " '2015-02-22 21:25:00']\n"
     ]
    },
    {
     "ename": "TypeError",
     "evalue": "strptime() argument 1 must be str, not numpy.ndarray",
     "output_type": "error",
     "traceback": [
      "\u001b[0;31m---------------------------------------------------------------------------\u001b[0m",
      "\u001b[0;31mTypeError\u001b[0m                                 Traceback (most recent call last)",
      "\u001b[0;32m<ipython-input-200-ebcf6eff8834>\u001b[0m in \u001b[0;36m<module>\u001b[0;34m\u001b[0m\n\u001b[1;32m      8\u001b[0m \u001b[0;32mimport\u001b[0m \u001b[0mdatetime\u001b[0m\u001b[0;34m\u001b[0m\u001b[0m\n\u001b[1;32m      9\u001b[0m \u001b[0;34m\u001b[0m\u001b[0m\n\u001b[0;32m---> 10\u001b[0;31m \u001b[0mdate_time_t1\u001b[0m \u001b[0;34m=\u001b[0m \u001b[0mdatetime\u001b[0m\u001b[0;34m.\u001b[0m\u001b[0mdatetime\u001b[0m\u001b[0;34m.\u001b[0m\u001b[0mstrptime\u001b[0m\u001b[0;34m(\u001b[0m\u001b[0mt1\u001b[0m\u001b[0;34m,\u001b[0m \u001b[0;34m'%Y-%m-%d %H:%M:%S'\u001b[0m\u001b[0;34m)\u001b[0m\u001b[0;34m\u001b[0m\u001b[0m\n\u001b[0m\u001b[1;32m     11\u001b[0m \u001b[0mdate_time_t2\u001b[0m \u001b[0;34m=\u001b[0m \u001b[0mdatetime\u001b[0m\u001b[0;34m.\u001b[0m\u001b[0mdatetime\u001b[0m\u001b[0;34m.\u001b[0m\u001b[0mstrptime\u001b[0m\u001b[0;34m(\u001b[0m\u001b[0mt2\u001b[0m\u001b[0;34m,\u001b[0m \u001b[0;34m'%Y-%m-%d %H:%M:%S'\u001b[0m\u001b[0;34m)\u001b[0m\u001b[0;34m\u001b[0m\u001b[0m\n\u001b[1;32m     12\u001b[0m \u001b[0mdelta_t\u001b[0m \u001b[0;34m=\u001b[0m \u001b[0mdate_time_t2\u001b[0m\u001b[0;34m-\u001b[0m\u001b[0mdate_time_t1\u001b[0m\u001b[0;34m\u001b[0m\u001b[0m\n",
      "\u001b[0;31mTypeError\u001b[0m: strptime() argument 1 must be str, not numpy.ndarray"
     ]
    }
   ],
   "source": [
    "# Scatter plot of time to TPA vs number of unique users\n",
    "print(AL[:10,5])\n",
    "print(AL[:10,9])\n",
    "i = 2300 \n",
    "t1 = AL[i:i+10,5]\n",
    "t2 = AL[i:i+10,9]\n",
    "\n",
    "import datetime\n",
    "\n",
    "date_time_t1 = datetime.datetime.strptime(t1, '%Y-%m-%d %H:%M:%S')\n",
    "date_time_t2 = datetime.datetime.strptime(t2, '%Y-%m-%d %H:%M:%S')\n",
    "delta_t = date_time_t2-date_time_t1\n",
    "t_min = int(delta_t.total_seconds() / 60)\n",
    "print(t_min)"
   ]
  },
  {
   "cell_type": "code",
   "execution_count": 201,
   "metadata": {},
   "outputs": [],
   "source": [
    "# unique patient IDs\n",
    "unique_ids, Indx = np.unique(AL[:,1], return_index = True) # unique patiant ids\n",
    "\n",
    "import datetime\n",
    "\n",
    "# extract TPA times for each patient and put it in a dictionary\n",
    "Time2tpa = np.zeros(Indx.shape)\n",
    "Pat_TPAt_dic = {}\n",
    "\n",
    "for id in Indx:\n",
    "    t1 = AL[id,5]\n",
    "    t2 = AL[id,9]\n",
    "    #print(t1,t2)\n",
    "    date_time_t1 = datetime.datetime.strptime(t1, '%Y-%m-%d %H:%M:%S')\n",
    "    date_time_t2 = datetime.datetime.strptime(t2, '%Y-%m-%d %H:%M:%S')\n",
    "    delta_t = date_time_t2 - date_time_t1\n",
    "    time_int = int(delta_t.total_seconds() / 60)\n",
    "    \n",
    "    if time_int < 60*10:\n",
    "        Pat_TPAt_dic[id] = time_int\n",
    "\n",
    "\n",
    "\n",
    "\n",
    "#print(Time2tpa)\n",
    "    \n",
    "#print(Time2tpa)\n",
    "\n",
    "# distribution of the times\n",
    "#plt.hist(Time2tpa, density = True, bins=20, facecolor='blue', histtype = 'step')\n",
    "#plt.xlabel('Time to TPA')\n",
    "#plt.ylabel('probability density')\n",
    "#plt.legend(loc='upper left')\n",
    "#plt.show()"
   ]
  },
  {
   "cell_type": "code",
   "execution_count": 202,
   "metadata": {
    "scrolled": true
   },
   "outputs": [
    {
     "data": {
      "image/png": "[encoded data removed]",
      "text/plain": [
       "<Figure size 432x288 with 1 Axes>"
      ]
     },
     "metadata": {
      "needs_background": "light"
     },
     "output_type": "display_data"
    }
   ],
   "source": [
    "# distribution of time-to-TPA\n",
    "TPA_array = np.array(list(Pat_TPAt_dic.values()))\n",
    "plt.hist(TPA_array, density = True, bins=20, facecolor='blue', histtype = 'step')\n",
    "plt.xlabel('Time to TPA')\n",
    "plt.ylabel('probability density')\n",
    "#plt.legend(loc='upper left')\n",
    "plt.show()\n"
   ]
  },
  {
   "cell_type": "code",
   "execution_count": 203,
   "metadata": {},
   "outputs": [],
   "source": [
    "# Find the number of unique users for each patient\n",
    "# we have a dictionary of patients (jc_uid). Each patient has dictionary of different statistics: \n",
    "#          time2tpa, number of unique users, etc\n",
    "\n",
    "Unique_ids, Indx = np.unique(AL[:,1], return_index = True) # unique patiant ids\n",
    "\n",
    "#print(Unique_ids.shape)\n",
    "#print(Indx.shape)\n",
    "#print(Unique_ids == AL[Indx,1])\n",
    "\n",
    "import datetime\n",
    "\n",
    "# Create the patient dictionary and extract TPA times for each patient and put it in a dictionary\n",
    "\n",
    "Time2tpa = np.zeros(Indx.shape)\n",
    "Pat_dic = {}\n",
    "\n",
    "for id in Indx:\n",
    "    t1 = AL[id,5]\n",
    "    t2 = AL[id,9]\n",
    "    #print(t1,t2)\n",
    "    date_time_t1 = datetime.datetime.strptime(t1, '%Y-%m-%d %H:%M:%S')\n",
    "    date_time_t2 = datetime.datetime.strptime(t2, '%Y-%m-%d %H:%M:%S')\n",
    "    delta_t = date_time_t2 - date_time_t1\n",
    "    time_int = int(delta_t.total_seconds() / 60)\n",
    "    \n",
    "    if time_int < 60*10:\n",
    "        Pat_dic[AL[id,1]] = {} #each patient has a dictionary\n",
    "        Pat_dic[AL[id,1]]['t2tpa'] = time_int\n",
    "\n",
    "        \n"
   ]
  },
  {
   "cell_type": "code",
   "execution_count": 204,
   "metadata": {},
   "outputs": [
    {
     "data": {
      "image/png": "[encoded data removed]",
      "text/plain": [
       "<Figure size 432x288 with 1 Axes>"
      ]
     },
     "metadata": {
      "needs_background": "light"
     },
     "output_type": "display_data"
    },
    {
     "data": {
      "image/png": "[encoded data removed]",
      "text/plain": [
       "<Figure size 432x288 with 1 Axes>"
      ]
     },
     "metadata": {
      "needs_background": "light"
     },
     "output_type": "display_data"
    }
   ],
   "source": [
    "\n",
    "# extract number of unique users for each patient\n",
    "\n",
    "for id in Pat_dic.keys():\n",
    "    #print(Pat_dic[id])\n",
    "    Pat_dic[id]['unique_users'] = np.unique(AL[np.where(AL[:,1]==id)[0],16]).shape[0]\n",
    "\n",
    "Unique_user_counts = np.array([Pat_dic[id]['unique_users'] for id in Pat_dic.keys()])\n",
    "\n",
    "# plot counts\n",
    "plt.hist(Unique_user_counts,  bins=20, facecolor='blue', histtype = 'step')\n",
    "plt.xlabel('Unique User Counts')\n",
    "plt.ylabel('Density')\n",
    "#plt.legend(loc='upper left')\n",
    "plt.show()\n",
    "\n",
    "\n",
    "# plot\n",
    "plt.hist(Unique_user_counts, density = True,  bins=20, facecolor='blue', histtype = 'step')\n",
    "plt.xlabel('Unique User Counts')\n",
    "plt.ylabel('Density')\n",
    "#plt.legend(loc='upper left')\n",
    "plt.show()"
   ]
  },
  {
   "cell_type": "code",
   "execution_count": 206,
   "metadata": {},
   "outputs": [
    {
     "name": "stdout",
     "output_type": "stream",
     "text": [
      "JCcbadf1\n",
      "JCcbf918\n",
      "JCcef889\n",
      "JCd46d2d\n",
      "JCd8a4ba\n",
      "JCdabe61\n",
      "JCdb845c\n",
      "JCdb9f94\n",
      "JCdd18f0\n",
      "JCdda113\n",
      "JCdfd0d5\n",
      "JCdfefad\n",
      "JCe017e0\n",
      "JCe0ebef\n",
      "JCe4d32c\n",
      "JCe5cc93\n",
      "JCe5e26c\n",
      "JCe7fe0e\n"
     ]
    }
   ],
   "source": [
    "# find patients with less than 3 unique users\n",
    "\n",
    "for id in Pat_dic.keys():\n",
    "    #print(Pat_dic[id])\n",
    "    if Pat_dic[id]['unique_users'] <4:\n",
    "        print(id)\n",
    "\n",
    "#Unique_user_counts = np.array([Pat_dic[id]['unique_users'] for id in Pat_dic.keys()])\n"
   ]
  },
  {
   "cell_type": "code",
   "execution_count": 154,
   "metadata": {},
   "outputs": [
    {
     "data": {
      "image/png": "[encoded data removed]",
      "text/plain": [
       "<Figure size 432x288 with 1 Axes>"
      ]
     },
     "metadata": {
      "needs_background": "light"
     },
     "output_type": "display_data"
    }
   ],
   "source": [
    "# extract team size  (unique users > 5) for each patient\n",
    "AL_limit=10\n",
    "\n",
    "for id in Pat_dic.keys():\n",
    "    #print(Pat_dic[id])\n",
    "    _ , user_counts = np.unique(AL[np.where(AL[:,1]==id)[0],16], return_counts = True)\n",
    "    \n",
    "    Pat_dic[id]['team_size'] = np.sum(user_counts>=AL_limit)\n",
    "\n",
    "Team_size = np.array([Pat_dic[id]['team_size'] for id in Pat_dic.keys()])\n",
    "\n",
    "# plot\n",
    "plt.hist(Team_size , density = True,  bins=20, facecolor='blue', histtype = 'step')\n",
    "plt.xlabel('Team_size')\n",
    "plt.ylabel('Density')\n",
    "#plt.legend(loc='upper left')\n",
    "plt.show()"
   ]
  },
  {
   "cell_type": "code",
   "execution_count": 158,
   "metadata": {},
   "outputs": [
    {
     "data": {
      "image/png": "[encoded data removed]",
      "text/plain": [
       "<Figure size 432x288 with 1 Axes>"
      ]
     },
     "metadata": {
      "needs_background": "light"
     },
     "output_type": "display_data"
    }
   ],
   "source": [
    "# plot team size vs TPA\n",
    "Team_size = np.array([Pat_dic[id]['team_size'] for id in Pat_dic.keys()])\n",
    "Time2tpa = np.array([Pat_dic[id]['t2tpa'] for id in Pat_dic.keys()])\n",
    "\n",
    "\n",
    "plt.scatter(Team_size,Time2tpa,color='r')\n",
    "\n",
    "plt.xlabel('Team size')\n",
    "plt.ylabel('Time-to-TPA (min)')\n",
    "\n",
    "plt.show()\n"
   ]
  },
  {
   "cell_type": "code",
   "execution_count": 159,
   "metadata": {},
   "outputs": [
    {
     "data": {
      "image/png": "[encoded data removed]",
      "text/plain": [
       "<Figure size 432x288 with 1 Axes>"
      ]
     },
     "metadata": {
      "needs_background": "light"
     },
     "output_type": "display_data"
    }
   ],
   "source": [
    "# plot \"normalized\" team size vs TPA\n",
    "\n",
    "N_Team_size = Team_size/Time2tpa\n",
    "\n",
    "#Time2tpa = np.array([Pat_dic[id]['t2tpa'] for id in Pat_dic.keys()])\n",
    "\n",
    "\n",
    "plt.scatter(N_Team_size,Time2tpa,color='r')\n",
    "\n",
    "plt.xlabel('Normalized Team size')\n",
    "plt.ylabel('Time-to-TPA (min)')\n",
    "\n",
    "plt.show()"
   ]
  },
  {
   "cell_type": "code",
   "execution_count": 164,
   "metadata": {},
   "outputs": [
    {
     "data": {
      "image/png": "[encoded data removed]",
      "text/plain": [
       "<Figure size 432x288 with 1 Axes>"
      ]
     },
     "metadata": {
      "needs_background": "light"
     },
     "output_type": "display_data"
    },
    {
     "data": {
      "image/png": "[encoded data removed]",
      "text/plain": [
       "<Figure size 432x288 with 1 Axes>"
      ]
     },
     "metadata": {
      "needs_background": "light"
     },
     "output_type": "display_data"
    },
    {
     "data": {
      "image/png": "[encoded data removed]",
      "text/plain": [
       "<Figure size 432x288 with 1 Axes>"
      ]
     },
     "metadata": {
      "needs_background": "light"
     },
     "output_type": "display_data"
    },
    {
     "data": {
      "image/png": "[encoded data removed]",
      "text/plain": [
       "<Figure size 432x288 with 1 Axes>"
      ]
     },
     "metadata": {
      "needs_background": "light"
     },
     "output_type": "display_data"
    }
   ],
   "source": [
    "# Extract the of the number of transactions and Plot distribution\n",
    "\n",
    "for id in Pat_dic.keys():\n",
    "    #print(Pat_dic[id])\n",
    "    Pat_dic[id]['num_trans'] = np.where(AL[:,1]==id)[0].shape[0]\n",
    "\n",
    "Num_trans = np.array([Pat_dic[id]['num_trans'] for id in Pat_dic.keys()])\n",
    "\n",
    "# Density plot\n",
    "plt.hist(Num_trans, density = True,  bins=20, facecolor='blue', histtype = 'step')\n",
    "plt.xlabel('Number of transactions')\n",
    "plt.ylabel('Density')\n",
    "#plt.legend(loc='upper left')\n",
    "plt.show()\n",
    "\n",
    "# Scatter plot\n",
    "plt.scatter(Num_trans,Time2tpa,color='r')\n",
    "\n",
    "plt.xlabel('Number of transactions')\n",
    "plt.ylabel('Time-to-TPA (min)')\n",
    "plt.show()\n",
    "\n",
    "\n",
    "\n",
    "# Normalized transactions\n",
    "Num_N_trans = Num_trans/Time2tpa\n",
    "\n",
    "# Distribution plot\n",
    "plt.hist(Num_N_trans, density = True,  bins=20, facecolor='blue', histtype = 'step')\n",
    "plt.xlabel('Normalized number of transactions')\n",
    "plt.ylabel('Density')\n",
    "#plt.legend(loc='upper left')\n",
    "plt.show()\n",
    "\n",
    "\n",
    "# Scatter plot\n",
    "plt.scatter(Num_N_trans,Time2tpa,color='r')\n",
    "\n",
    "plt.xlabel('Normalized number of transactions')\n",
    "plt.ylabel('Time-to-TPA (min)')\n",
    "plt.show()"
   ]
  },
  {
   "cell_type": "code",
   "execution_count": 179,
   "metadata": {},
   "outputs": [
    {
     "data": {
      "image/png": "[encoded data removed]",
      "text/plain": [
       "<Figure size 432x288 with 1 Axes>"
      ]
     },
     "metadata": {
      "needs_background": "light"
     },
     "output_type": "display_data"
    },
    {
     "name": "stdout",
     "output_type": "stream",
     "text": [
      "[ 16  14  31  35  46   1  16  21   1  23  27  11  20  79  22 105  49   4\n",
      " 170  27]\n",
      "[ 17  10  23  21  40   1  16  20   2  23  27  11  18  72  21  98  50   3\n",
      " 171  22]\n",
      "It looks like each computer has a unique id, and almost all of the times each user has used a separate computer\n"
     ]
    }
   ],
   "source": [
    "# Extract number of unique stations_ids per patients\n",
    "\n",
    "for id in Pat_dic.keys():\n",
    "    #print(Pat_dic[id])\n",
    "    #print(np.unique(AL[np.where(AL[:,1]==id)[0],17]).shape[0])\n",
    "    \n",
    "    Pat_dic[id]['unique_workstation'] = np.unique(AL[np.where(AL[:,1]==id)[0],17]).shape[0]\n",
    "\n",
    "Unique_workstation = np.array([Pat_dic[id]['unique_workstation'] for id in Pat_dic.keys()])\n",
    "\n",
    "# plot\n",
    "plt.hist(Unique_workstation, density = True,  bins=20, facecolor='blue', histtype = 'step')\n",
    "plt.xlabel('Unique User Counts')\n",
    "plt.ylabel('Density')\n",
    "#plt.legend(loc='upper left')\n",
    "plt.show()\n",
    "\n",
    "\n",
    "print(Unique_user_counts[:20])\n",
    "print(Unique_workstation[:20])\n",
    "print('It looks like each computer has a unique workstation id, and almost always each user has used a separate computer')"
   ]
  },
  {
   "cell_type": "code",
   "execution_count": 192,
   "metadata": {},
   "outputs": [
    {
     "name": "stdout",
     "output_type": "stream",
     "text": [
      "(381051, 26)\n",
      "(381051,)\n",
      "(381051, 27)\n",
      "35\n",
      "[236633  45754  27671  27539  14848  14348   8400   3575    855    455]\n",
      "['WKS' 'GEN' 'COW' 'WOW' 'BCA' '' 'LAP' 'TAN' 'TCL' 'TC0']\n"
     ]
    }
   ],
   "source": [
    "# get the counts of top workstations (based on the first three letters)\n",
    "AL = np.array(temp[1:])\n",
    "\n",
    "# add workstation letters as a separate column to the table\n",
    "\n",
    "Wks_vec = np.array([AL[r,17][:3] for r in range(AL.shape[0])])\n",
    "#print(AL.shape)\n",
    "#print(Wks_vec.shape)\n",
    "AL_aug = np.append(AL, np.reshape(Wks_vec,(-1,1)), axis=1)\n",
    "#print(AL_aug.shape)\n",
    "\n",
    "#R = \n",
    "names_unsorted, counts_unsorted =np.unique(AL_aug[:,-1],return_counts=True)\n",
    "\n",
    "print(names_unsorted.shape[0])\n",
    "\n",
    "I_sort = np.argsort(- counts_unsorted) # argsort in desc order\n",
    "WKS_name_counts_sorted = counts_unsorted[I_sort][:10]\n",
    "WKS_name_sorted = names_unsorted[I_sort][:10]\n",
    "\n",
    "print(WKS_name_counts_sorted)\n",
    "#print(np.sum(Trans_name_counts_sorted ))\n",
    "print(WKS_name_sorted)"
   ]
  },
  {
   "cell_type": "code",
   "execution_count": 181,
   "metadata": {},
   "outputs": [
    {
     "name": "stdout",
     "output_type": "stream",
     "text": [
      "(381051, 26)\n",
      "455\n",
      "[136684  78504  15497  14444  11009   9663   8423   7868   6084   5244]\n",
      "['Inpatient Patient Lists activity accessed'\n",
      " 'Report with patient data viewed' 'SmartLink used'\n",
      " 'Patient Station accessed' 'Related encounters requested'\n",
      " 'Notes activity and navigators accessed'\n",
      " 'Visit Navigator Flowsheet section is accessed' 'Order transmitted'\n",
      " 'Order list changed' 'Flowsheet activity accessed']\n"
     ]
    }
   ],
   "source": [
    "# get the counts of each transaction\n",
    "\n",
    "\n",
    "AL = np.array(temp[1:])\n",
    "print(AL.shape)\n",
    "\n",
    "#print(AL[10,-1].type)\n",
    "\n",
    "#print(AL[:10,-1])\n",
    "\n",
    "#R = \n",
    "names_unsorted, counts_unsorted =np.unique(AL[:,15],return_counts=True)\n",
    "\n",
    "print(names_unsorted.shape[0])\n",
    "\n",
    "I_sort = np.argsort(- counts_unsorted) # argsort in desc order\n",
    "Trans_name_counts_sorted = counts_unsorted[I_sort][:10]\n",
    "Trans_name_sorted = names_unsorted[I_sort][:10]\n",
    "\n",
    "print(Trans_name_counts_sorted)\n",
    "#print(np.sum(Trans_name_counts_sorted ))\n",
    "print(Trans_name_sorted)"
   ]
  },
  {
   "cell_type": "code",
   "execution_count": 189,
   "metadata": {
    "scrolled": true
   },
   "outputs": [
    {
     "name": "stdout",
     "output_type": "stream",
     "text": [
      "['-41' 'JCcba135' '131071934721' 'Admission' 'Emergency Services'\n",
      " '2015-02-22 20:50:00' '2015-02-22 20:49:00' 'ALTEPLASE 100 MG IV SOLR'\n",
      " '2015-02-22 21:12:00' '2015-02-22 21:25:00' 'Inpatient'\n",
      " '2015-02-23 20:19:00' 'JCcba135' 'prd-20971878' '24550'\n",
      " 'Patient Station accessed' 'SS0067345' 'GENERIC' '131012987141' '1'\n",
      " 'Query' '0' '' '2015-02-23 04:44:39 UTC' '2015-02-22 20:44:39' 'GEN'\n",
      " 'GEN' '']\n"
     ]
    }
   ],
   "source": [
    "####.  test codes #####\n",
    "#print(AL[np.where(AL[:,1]==AL[10,1])[0],16].shape)\n",
    "#print(np.unique(AL[np.where(AL[:,1]==AL[10600,1])[0],17]))\n",
    "print(AL[100,:])"
   ]
  },
  {
   "cell_type": "code",
   "execution_count": null,
   "metadata": {},
   "outputs": [],
   "source": []
  }
 ],
 "metadata": {
  "kernelspec": {
   "display_name": "Python 3",
   "language": "python",
   "name": "python3"
  },
  "language_info": {
   "codemirror_mode": {
    "name": "ipython",
    "version": 3
   },
   "file_extension": ".py",
   "mimetype": "text/x-python",
   "name": "python",
   "nbconvert_exporter": "python",
   "pygments_lexer": "ipython3",
   "version": "3.6.6"
  }
 },
 "nbformat": 4,
 "nbformat_minor": 2
}
